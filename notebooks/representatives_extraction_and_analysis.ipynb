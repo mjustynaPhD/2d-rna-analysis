{
 "cells": [
  {
   "cell_type": "markdown",
   "metadata": {},
   "source": [
    "#### Representatives extraction from bgsu database (3A resolution constraint)\n",
    "[Link](http://rna.bgsu.edu/rna3dhub/nrlist/release/3.242/3.0A)"
   ]
  },
  {
   "cell_type": "code",
   "execution_count": 10,
   "metadata": {},
   "outputs": [
    {
     "name": "stdout",
     "output_type": "stream",
     "text": [
      "1646\n"
     ]
    }
   ],
   "source": [
    "import os\n",
    "PATH = \"../external-files/nrlist_3.242_3.0A.csv\"\n",
    "with open(PATH) as f:\n",
    "    lines = f.readlines()\n",
    "print(len(lines))"
   ]
  },
  {
   "cell_type": "code",
   "execution_count": 11,
   "metadata": {},
   "outputs": [
    {
     "name": "stdout",
     "output_type": "stream",
     "text": [
      "['6CFJ_1_1x', '5L4O_1_A', '5E81_1_2K', '6I0V_1_B', '6YDP_1_BB', '2DU3_1_D', '1KUQ_1_B', '5K77_1_X', '5J7L_1_DB', '3BT7_1_D']\n"
     ]
    }
   ],
   "source": [
    "pdbs = [l.strip() for l in lines]\n",
    "pdbs = [p.split(',')[1:2] for p in pdbs]\n",
    "\n",
    "def additional_chains(pdb):\n",
    "    if '+' in pdb:\n",
    "        pdb_ab = pdb.split(\"+\")\n",
    "        pdb_ab = [p.split(\"|\") for p in pdb_ab]\n",
    "        core = \"_\".join(pdb_ab[0][:-1])\n",
    "        pdb = f\"{core}_{pdb_ab[0][-1]}-{pdb_ab[1][-1]}\"\n",
    "    else:\n",
    "        pdb = pdb.split(\"|\")\n",
    "        pdb = \"_\".join(pdb)\n",
    "    return pdb\n",
    "\n",
    "def combine_ids(pdb_line):\n",
    "    pdbs = [p.replace(\"\\\"\", \"\").replace(\"\\'\", \"\") for p in pdb_line]\n",
    "    pdbs = [additional_chains(p) for p in pdbs]\n",
    "    return pdbs\n",
    "\n",
    "pdbs = [combine_ids(p) for p in pdbs]\n",
    "pdbs = [p[0] for p in pdbs]\n",
    "pdb_repres = [f'{p.split(\"_\")[0]}_{p.split(\"_\")[2]}' for p in pdbs]\n",
    "print(pdbs[:10])\n",
    "\n",
    "with open('../metadata/representants.txt', 'w') as f:\n",
    "    out = \"\\n\".join(pdbs)\n",
    "    f.writelines(out)"
   ]
  },
  {
   "cell_type": "markdown",
   "metadata": {},
   "source": [
    "### Representatives from SPOT-RNA test set"
   ]
  },
  {
   "cell_type": "code",
   "execution_count": 12,
   "metadata": {},
   "outputs": [
    {
     "name": "stdout",
     "output_type": "stream",
     "text": [
      "['3SKI_A', '2HVY_E', '4PMI_A', '1FFK_9', '2CSX_C', '2ZNI_C', '4Y1J_A', '4KZD_R', '4V83_AV', '2A64_A']\n",
      "106 39\n"
     ]
    }
   ],
   "source": [
    "import os\n",
    "train_pdbs = \"../external-files/PDB_dataset/TR1_sequences/\"\n",
    "test_pdbs1 = \"../external-files/PDB_dataset/TS1_sequences/\"\n",
    "test_pdbs2 = \"../external-files/PDB_dataset/TS2_sequences/\"\n",
    "\n",
    "def get_pdb_ids(path, remove_chain:bool=True):\n",
    "    pdbs = os.listdir(path)\n",
    "    pdbs = [p.replace(\"-\", \"_\") for p in pdbs]\n",
    "    pdbs = [f'{p[:4].upper()}{p[4:]}' for p in pdbs]\n",
    "    if remove_chain:\n",
    "        pdb_repres = [f'{p.split(\"_\")[0]}_{p.split(\"_\")[2]}' for p in pdbs]\n",
    "        return pdb_repres\n",
    "    else:\n",
    "        return pdbs\n",
    "\n",
    "trpdbs = get_pdb_ids(train_pdbs)\n",
    "tspdbs1 = get_pdb_ids(test_pdbs1)\n",
    "tspdbs2 = get_pdb_ids(test_pdbs2, False)\n",
    "tspdbs1.extend(tspdbs2)\n",
    "print(trpdbs[:10])\n",
    "print(len(tspdbs1), len(tspdbs2))"
   ]
  },
  {
   "cell_type": "code",
   "execution_count": 13,
   "metadata": {},
   "outputs": [
    {
     "name": "stdout",
     "output_type": "stream",
     "text": [
      "['6CFJ_1_1x', '5L4O_1_A', '5E81_1_2K', '6I0V_1_B', '6YDP_1_BB', '2DU3_1_D', '1KUQ_1_B', '5K77_1_X', '5J7L_1_DB', '3BT7_1_D']\n",
      "['6FZ0_A', '6DMC_A', '6DLQ_A', '6DCB_B', '6CK4_B', '6CAE_1y', '6AAY_B', '5ZTM_C', '5WTK_B', '5WLH_B']\n",
      "0\n",
      "0\n"
     ]
    }
   ],
   "source": [
    "print(pdbs[:10])\n",
    "print(tspdbs1[:10])\n",
    "print(len(set(trpdbs).intersection(pdbs)))\n",
    "print(len(set(tspdbs1).intersection(pdbs)))"
   ]
  },
  {
   "cell_type": "code",
   "execution_count": 30,
   "metadata": {},
   "outputs": [
    {
     "name": "stdout",
     "output_type": "stream",
     "text": [
      "RF00005\n"
     ]
    }
   ],
   "source": [
    "p = \"../external-files/rfam-14.8/Rfam.pdb\"\n",
    "with open(p) as f:\n",
    "    lines = f.readlines()\n",
    "pdb_mapping = [l.strip() for l in lines]\n",
    "pdb_mapping = [l.split('\\t') for l in pdb_mapping]\n",
    "\n",
    "pdbs_families = {}\n",
    "for p in pdb_mapping[1:]:\n",
    "    family = p[0]\n",
    "    pdb_id = p[1]\n",
    "    chain = p[2]\n",
    "    full_id = f'{pdb_id.upper()}_{chain}'\n",
    "    pdbs_families[full_id] = family\n",
    "print(pdbs_families['5AXM_P'])\n"
   ]
  },
  {
   "cell_type": "code",
   "execution_count": 18,
   "metadata": {},
   "outputs": [
    {
     "name": "stdout",
     "output_type": "stream",
     "text": [
      "All pdb keys:7659, Given set len: 120,  Subset intersection: 63\n",
      "3SKI_A\n",
      "2HVY_E\n",
      "4PMI_A\n",
      "2ZNI_C\n",
      "4Y1J_A\n",
      "4KZD_R\n",
      "4V83_AV\n",
      "5DE5_A\n",
      "5TPY_A\n",
      "3R9X_C\n",
      "2ZH2_B\n",
      "6CF2_G\n",
      "1UN6_E\n",
      "3R4F_A\n",
      "5KPY_A\n",
      "4Y1M_B\n",
      "1MZP_B\n",
      "4UYK_R\n",
      "1KH6_A\n",
      "2GTT_X\n",
      "2OIU_P\n",
      "6C63_A\n",
      "4U7U_L\n",
      "4KR6_C\n",
      "4R4P_A\n",
      "3KTW_C\n",
      "1KOG_I\n",
      "6D12_C\n",
      "3E5C_A\n",
      "6D3P_A\n",
      "4JRC_A\n",
      "6IFO_D\n",
      "4FNJ_A\n",
      "2NUE_C\n",
      "5BJO_E\n",
      "5VOE_A\n",
      "3IAB_R\n",
      "3ICQ_D\n",
      "1DUL_B\n",
      "1DDY_A\n",
      "4X4P_B\n",
      "3GCA_A\n",
      "4OJI_A\n",
      "6DTD_C\n",
      "4OQU_A\n",
      "4RMO_B\n",
      "4RGE_A\n",
      "4PLX_A\n",
      "4C7O_E\n",
      "1I6U_C\n",
      "5U3G_B\n",
      "4PDB_I\n",
      "4M4O_B\n",
      "2QWY_A\n",
      "4O26_E\n",
      "1U63_B\n",
      "1DK1_B\n"
     ]
    }
   ],
   "source": [
    "from collections import Counter\n",
    "\n",
    "\n",
    "def get_representations(subset, pdbs_families):\n",
    "    keys = set(pdbs_families.keys())\n",
    "    sub = set(subset).intersection(keys)\n",
    "    print(f'All pdb keys:{len(keys)}, Given set len: {len(subset)},  Subset intersection: {len(sub)}')\n",
    "    missing = []\n",
    "    for s in subset:\n",
    "        if s not in pdbs_families:\n",
    "            print(s)\n",
    "            missing.append(s)\n",
    "    r = [pdbs_families[s] for s in sub]\n",
    "    c = Counter(r)\n",
    "    return c, missing\n",
    "\n",
    "x, missing = get_representations(trpdbs, pdbs_families)\n",
    "\n"
   ]
  },
  {
   "cell_type": "markdown",
   "metadata": {},
   "source": [
    "#### Save missing representants"
   ]
  },
  {
   "cell_type": "code",
   "execution_count": 19,
   "metadata": {},
   "outputs": [],
   "source": [
    "with open(\"missing-pdbs.txt\", 'w') as f:\n",
    "    f.writelines([f'{x}\\n' for x in missing])"
   ]
  },
  {
   "cell_type": "code",
   "execution_count": 20,
   "metadata": {},
   "outputs": [
    {
     "name": "stdout",
     "output_type": "stream",
     "text": [
      ">3SKI_A 0.76\n",
      "(((((((((..((((((.....[[))))))[.....)](((((((]]..)))))))..))))))))\n",
      "\n",
      ">2HVY_E 0.52\n",
      "(((((((((......(((((((.............)))))))......)))))))))....\n",
      "\n",
      ">4PMI_A 0.65\n",
      "((((((...((..(((((....))).))...)).))))))\n",
      "\n",
      ">2ZNI_C 0.56\n",
      "((((.((.((((.....)))).((((.(.......).))))...(((((.......))))))).))))....\n",
      "\n",
      ">4Y1J_A 0.66\n",
      "(((((......((.((((....))))((((((((((.......(((((....)))))))))))))))(((((((....)))))))..))....)))))..\n",
      "\n",
      ">4KZD_R 0.6\n",
      "((((((((((..((((.(.....(...(((((((((.....)))))))..)).........)..).))))..).)))))))))\n",
      "\n",
      ">4V83_AV 0.86\n",
      "((((.(.(((((.[[[[[)))))).))))]]]]].\n",
      "\n",
      ">5DE5_A 0.4\n",
      "(((((.((....................)))))))\n",
      "\n",
      ">5TPY_A 0.7\n",
      "..{.(((((((((....)))).((((((..[[[[...))))))}.)))))...]]]](((((....)))))\n",
      "\n",
      ">3R9X_C 0.57\n",
      "(((((((((.(...))))))))))...........\n",
      "\n",
      ">2ZH2_B 0.71\n",
      "((((((((((((.......))))))))))))...\n",
      "\n",
      ">6CF2_G 0.69\n",
      "(((((..(((((((....))))..)))...)))))\n",
      "\n",
      ">1UN6_E 0.59\n",
      "((((((....((....))(((((((.....((..(....)..))....)))))))))))))\n",
      "\n",
      ">3R4F_A 0.7\n",
      "((((.(((((((((......((((......)))))))))))))...((((((....))))))))))\n",
      "\n",
      ">5KPY_A 0.56\n",
      "((((((......(.(((((.....[[))))))..(.......(((((]].....)))))...)..))))))\n",
      "\n",
      ">4Y1M_B 0.67\n",
      "(((.(((......(((.((((((....))))))((((((((((.......((((....)))))))))))))).(((((((....))))))).)))....))).))).\n",
      "\n",
      ">1MZP_B 0.51\n",
      "((((.(......[..(((((..(((....)))..........].)))))).))))\n",
      "\n",
      ">4UYK_R 0.68\n",
      ".((((..(((((((((...[[[[[.)))))....((((....]]]]].....))))))))...(((((((((..((..(((...(((((((((....)))))))))...)))..))..)))))))))..))))\n",
      "\n",
      ">1KH6_A 0.67\n",
      "(((((..(((....)))..((....)).((((.)))))))))\n",
      "\n",
      ">2OIU_P 0.65\n",
      ".(((((((((....)))(.((....(((....)))....)))..)))))).((((((((....))))))))\n",
      "\n",
      ">6C63_A 0.33\n",
      "((((((........................))))))\n",
      "\n",
      ">4KR6_C 0.62\n",
      "((((((((.......((((....))))))))))))....\n",
      "\n",
      ">4R4P_A 0.66\n",
      "((((((((((.....((((...((((.......))))..))))..((((((.(((..((((((..(((((.....)))))..(((((((.......)))))))......))).)))(((..(((.((((((((((....))))))))))...)))))).....)))))))))..))).)))))))\n",
      "\n",
      ">3KTW_C 0.6\n",
      ".(((...((((((((((((((((....))))))))))).))))).....((((.....(((.....(((....))).....)))..))))...)))\n",
      "\n",
      ">1KOG_I 0.7\n",
      "((((((.(((((((.......)))))))...))))))\n",
      "\n",
      ">6D12_C 0.63\n",
      "(((((((.....)))))))..(((((.....)))))..\n",
      "\n",
      ">3E5C_A 0.62\n",
      "(((((..((((.(((((....)))))....))))....((....))))))).\n",
      "\n",
      ">6D3P_A 0.4\n",
      "..((((..(((((.............).))))...))))......\n",
      "\n",
      ">4JRC_A 0.61\n",
      "(((((...(((((.....[..((((((..........]))))))))))).))))).\n",
      "\n",
      ">6IFO_D 0.4\n",
      "............((((((..((((....))))....))))))..(((..).)).......((((....))))...(.........)....\n",
      "\n",
      ">4FNJ_A 0.69\n",
      "(.((.(((..((((((....))))).)))).)).)\n",
      "\n",
      ">2NUE_C 0.91\n",
      "(((((((((((((((((((((....)))))))))))))))))))))\n",
      "\n",
      ">5BJO_E 0.46\n",
      "(((((...(.......).((.....))...)))))\n",
      "\n",
      ">3IAB_R 0.52\n",
      "((((((........((((((....))))))..........))))))\n",
      "\n",
      ">3ICQ_D 0.48\n",
      "(((.(((...(((........)))..(.).....(((((.......)))))))).)))....\n",
      "\n",
      ">1DUL_B 0.62\n",
      ".(((((((((....(((....(((....)))....))).)))))))))\n",
      "\n",
      ">1DDY_A 0.46\n",
      "......[[[.{((....((]]]...).).}.))..\n",
      "\n",
      ">4X4P_B 0.67\n",
      "((((((((((((.......)))))))))...)))..\n",
      "\n",
      ">3GCA_A 0.42\n",
      "(((((...[.[....))))).........]..]\n",
      "\n",
      ">4OJI_A 0.73\n",
      "(((((...(((({{(.)((((.[[[..}})))).....))))..]]])))))\n",
      "\n",
      ">6DTD_C 0.65\n",
      ".((((..(.(((((((.....).)))))).)..))))\n",
      "\n",
      ">4OQU_A 0.66\n",
      "(((((....((((....))))(((..((((((.[[[[[.))).))).)))..(((((....)))))))))).((((....)))).......]]]]].\n",
      "\n",
      ">4RMO_B 0.45\n",
      "......(((((...[[[[[..))))).........]]]]]....\n",
      "\n",
      ">4RGE_A 0.71\n",
      ".((....(((({{(((((()))))).(((.[[[..}})))...))))..]]].)).\n",
      "\n",
      ">4PLX_A 0.62\n",
      "[[[[[..........((((((((....)))))))).((((((((((..]]]]]...........))))))))))\n",
      "\n",
      ">4C7O_E 0.83\n",
      "((((((((((((((((((((....)))).))).)))).).))))))))\n",
      "\n",
      ">1I6U_C 0.81\n",
      "(((((((((.((((((....))))..)))))))))))\n",
      "\n",
      ">5U3G_B 0.57\n",
      "(((((..((...(((((....))))).))....))))).(((((((....))))))).(.[...(((.......))).)..]..\n",
      "\n",
      ">4PDB_I 0.74\n",
      "(((((((((...(((((....)))..)).)))))))))\n",
      "\n",
      ">4M4O_B 0.68\n",
      "((((((.(((((.((.......((((.(.(.[..)]..).)))))).))))).))))))\n",
      "\n",
      ">2QWY_A 0.5\n",
      ".[[[[[[.......((...(((((]]]]]].........).)).))...)).\n",
      "\n",
      ">4O26_E 0.72\n",
      "((((...(((((.((((...))))))))).((((.))))....))))\n",
      "\n",
      ">1U63_B 0.69\n",
      ".(((((((((..((((((((....)))).))))......))))))))).\n",
      "\n",
      ">1DK1_B 0.67\n",
      "((((.(((....)))..(((((((((...(((....)))..))))).)))..)))))\n",
      "\n"
     ]
    }
   ],
   "source": [
    "p = '/data/2d-rna/dbn-cifs'\n",
    "mapp = os.listdir(p)\n",
    "vals = [f'{p.split(\"_\")[0]}_{p.split(\"_\")[2].replace(\".dbn\", \"\")}' for p in mapp]\n",
    "mapping = {}\n",
    "for m, v in zip(mapp, vals):\n",
    "    mapping[v] = m\n",
    "for m in missing:\n",
    "    with open(os.path.join(p, f'{mapping[m]}')) as f:\n",
    "        l = f.readlines()[-1].strip()\n",
    "    c = Counter(l)\n",
    "    fact = 1-(c['.']/len(l))\n",
    "    if fact > 0.3:\n",
    "        print(f'>{m} {round(fact, 2)}')\n",
    "        print(l)\n",
    "        print()"
   ]
  },
  {
   "cell_type": "markdown",
   "metadata": {},
   "source": [
    "#### Visualize families counts"
   ]
  },
  {
   "cell_type": "code",
   "execution_count": 21,
   "metadata": {},
   "outputs": [
    {
     "name": "stdout",
     "output_type": "stream",
     "text": [
      "[('RF00005', 30), ('RF00167', 2), ('RF00026', 2), ('RF02541', 2), ('RF00059', 2), ('RF01852', 2), ('RF02001', 2), ('RF00001', 2), ('RF01831', 2), ('RF02553', 1), ('RF00174', 1), ('RF01750', 1), ('RF00008', 1), ('RF00390', 1), ('RF01786', 1), ('RF00011', 1), ('RF01854', 1), ('RF00380', 1), ('RF01415', 1), ('RF00379', 1), ('RF00162', 1), ('RF00505', 1), ('RF00023', 1), ('RF01051', 1), ('RF02680', 1), ('RF00504', 1)]\n"
     ]
    }
   ],
   "source": [
    "vals = list(x.values())\n",
    "keys = list(x.keys())\n",
    "vk = sorted(zip(keys, vals), key=lambda x : x[1], reverse=True)\n",
    "keys = [x[0] for x in vk]\n",
    "vals = [x[1] for x in vk]\n",
    "print(vk)"
   ]
  },
  {
   "cell_type": "code",
   "execution_count": 24,
   "metadata": {},
   "outputs": [
    {
     "data": {
      "image/png": "[encoded data removed]",
      "text/plain": [
       "<Figure size 864x360 with 1 Axes>"
      ]
     },
     "metadata": {
      "needs_background": "light"
     },
     "output_type": "display_data"
    }
   ],
   "source": [
    "import matplotlib.pyplot as plt\n",
    "import numpy as np\n",
    "\n",
    "plt.figure(figsize=(12,5))\n",
    "plt.scatter(keys, vals)\n",
    "_ = plt.xticks(rotation=50)\n",
    "# plt.yticks(np.arange(0, 110, 10))"
   ]
  },
  {
   "cell_type": "markdown",
   "metadata": {},
   "source": [
    "Results vs representants"
   ]
  },
  {
   "cell_type": "code",
   "execution_count": 42,
   "metadata": {},
   "outputs": [
    {
     "name": "stdout",
     "output_type": "stream",
     "text": [
      "Single strand sequences in results: 8879\n",
      "Intersection with Rfam families: 6511\n"
     ]
    }
   ],
   "source": [
    "import os\n",
    "p = \"/data/2d-rna/validation-all-non0/\"\n",
    "files = os.listdir(p)\n",
    "single_str = [f for f in files if '-' not in f]\n",
    "single_str = [f for f in single_str if not f.endswith('.rpt')]\n",
    "single_str = set([f'{s.split(\"_\")[0]}_{s.split(\"_\")[2]}' for s in single_str])\n",
    "pdbs_fams = set(pdbs_families.keys())\n",
    "inter = pdbs_fams.intersection(single_str)\n",
    "print(f'Single strand sequences in results: {len(single_str)}')\n",
    "print(f\"Intersection with Rfam families: {len(inter)}\")"
   ]
  }
 ],
 "metadata": {
  "kernelspec": {
   "display_name": "Python 3.8.5 ('base')",
   "language": "python",
   "name": "python3"
  },
  "language_info": {
   "codemirror_mode": {
    "name": "ipython",
    "version": 3
   },
   "file_extension": ".py",
   "mimetype": "text/x-python",
   "name": "python",
   "nbconvert_exporter": "python",
   "pygments_lexer": "ipython3",
   "version": "3.8.5"
  },
  "orig_nbformat": 4,
  "vscode": {
   "interpreter": {
    "hash": "dc64daf3f4cb34fd2a627a01a386acb4d813da83b9fc19fff854b5100519eb33"
   }
  }
 },
 "nbformat": 4,
 "nbformat_minor": 2
}
