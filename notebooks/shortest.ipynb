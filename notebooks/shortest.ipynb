{
 "cells": [
  {
   "cell_type": "code",
   "execution_count": 1,
   "metadata": {},
   "outputs": [
    {
     "name": "stdout",
     "output_type": "stream",
     "text": [
      "7354\n",
      "['3R1C_1_V-Z', '7AS9_1_2', '4W4G_1_QW', '3J9Z_1_S7', '4WZJ_1_VV', '1P5P_1_A', '6Q95_1_8', '1QD3_1_A', '6WD9_1_6', '6T3N_1_A', '1RMN_1_A', '4ZC7_1_C-D', '5AFI_1_B', '5EL4_1_1J', '6CAE_1_2x', '6WDE_1_6', '4KR2_1_C', '6E1V_1_A', '4PJO_1_3', '2LWK_8_A', '485D_1_A-B', '4V6Y_1_A1', '4V5R_1_CY', '4WT8_1_C4', '7MSC_1_y', '4U4Y_1_3', '5DOX_1_1B', '4V65_1_AA', '6GZ5_1_Bw', '5LYV_1_B', '6W64_1_B', '4V79_1_A3', '5W4K_1_2x', '5MDY_1_3', '2PN3_1_A-B', '6ZSG_1_XB', '3ZJV_1_B', '1H4Q_1_T', '7R81_1_t1', '6YLB_1_F', '7PJX_1_B', '3EQT_1_C-D', '4U4U_1_3', '6VZ7_1_7', '6OM6_1_5', '1S2F_1_A', '4V5C_1_AY', '5FQ5_1_A', '5E3H_1_B-C', '6VWL_1_5', '5NP6_1_B', '5ZTM_1_C', '4V8M_1_BG', '1K9W_1_D', '6SV4_1_mc', '1NTA_1_A-B', '6OF1_1_1y', '4U34_1_B-A', '6OTR_1_YB', '3J0L_1_W', '4PHY_1_A-B', '6XHX_1_1B', '5NPM_1_B', '6N9F_1_1B', '4WC7_1_B', '7D7Y_1_A', '4V9L_1_AW', '6WAZ_1_D-C', '3DEG_1_E', '4JXZ_1_B', '1CSL_1_B-A', '4U26_1_BB', '5JU8_1_AY', '4V50_1_AW', '2TOB_1_A', '5TC1_1_R', '4XCO_1_E', '3CGP_1_B-A', '6ZR1_1_K-L', '1TN1_1_A', '4WSD_1_2L', '6OXI_1_QV', '4V4R_1_AV', '1KOC_1_B-A', '6XIQ_1_3', '3DH3_1_F-E', '6GZ4_1_A4', '6OXA_1_YB', '3NPQ_1_A', '5IB7_1_3K', '6TF2_1_A', '4V66_1_AE', '6CK4_1_A', '2ZH2_1_B', '2B6G_1_B', '6XWW_1_A', '3JCS_1_8', '5UYQ_1_X', '6LVR_1_D', '5BKN_1_bb-qq']\n"
     ]
    }
   ],
   "source": [
    "with open('../../metadata/common-all.txt') as f:\n",
    "    lines = f.readlines()\n",
    "common = lines[0].split(',')\n",
    "common = [l.replace('\\'', '').replace('}', '').replace('{', '').strip() for l in common]\n",
    "print(len(common))\n",
    "print(common[:100])"
   ]
  },
  {
   "cell_type": "code",
   "execution_count": 2,
   "metadata": {},
   "outputs": [],
   "source": [
    "import os\n",
    "FASTA = '/data/2d-rna/fasta500/'\n",
    "\n",
    "fa_len = []\n",
    "for fa in common:\n",
    "    with open(os.path.join(FASTA, f'{fa}.fa')) as f:\n",
    "        fasta = f.readlines()[-1]\n",
    "    fa_len.append((fa, len(fasta)))"
   ]
  },
  {
   "cell_type": "code",
   "execution_count": 3,
   "metadata": {},
   "outputs": [
    {
     "data": {
      "text/plain": [
       "['5U4J_1_A',\n",
       " '1G2E_1_B',\n",
       " '1IDV_1_A',\n",
       " '1R4H_1_A',\n",
       " '1R9S_1_R',\n",
       " '1YTU_1_E-F',\n",
       " '219D_1_B',\n",
       " '2M18_9_A',\n",
       " '2M18_9_B',\n",
       " '2M18_9_C']"
      ]
     },
     "execution_count": 3,
     "metadata": {},
     "output_type": "execute_result"
    }
   ],
   "source": [
    "shortest = sorted(fa_len, key=lambda x: (x[1], x[0]))\n",
    "shortest = [x[0] for x in shortest]\n",
    "shortest[:10]"
   ]
  },
  {
   "cell_type": "code",
   "execution_count": 37,
   "metadata": {},
   "outputs": [],
   "source": [
    "\n",
    "with open('../../metadata/shortest-order.txt', 'w') as f:\n",
    "    f.writelines(\"\\n\".join(shortest))"
   ]
  },
  {
   "cell_type": "code",
   "execution_count": null,
   "metadata": {},
   "outputs": [],
   "source": []
  }
 ],
 "metadata": {
  "kernelspec": {
   "display_name": "Python 3.8.5 ('base')",
   "language": "python",
   "name": "python3"
  },
  "language_info": {
   "codemirror_mode": {
    "name": "ipython",
    "version": 3
   },
   "file_extension": ".py",
   "mimetype": "text/x-python",
   "name": "python",
   "nbconvert_exporter": "python",
   "pygments_lexer": "ipython3",
   "version": "3.8.5"
  },
  "orig_nbformat": 4,
  "vscode": {
   "interpreter": {
    "hash": "dc64daf3f4cb34fd2a627a01a386acb4d813da83b9fc19fff854b5100519eb33"
   }
  }
 },
 "nbformat": 4,
 "nbformat_minor": 2
}
