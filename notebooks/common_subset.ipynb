{
 "cells": [
  {
   "cell_type": "code",
   "execution_count": 3,
   "metadata": {},
   "outputs": [],
   "source": [
    "import os\n",
    "\n",
    "bgsu_path = \"../results/all-bgsu/spot-rna.csv\"\n",
    "newseq_path = \"../results/all-rfam/spot-rna.csv\"\n",
    "newfam_path = \"../results/all-novel/spot-rna.csv\""
   ]
  },
  {
   "cell_type": "code",
   "execution_count": 10,
   "metadata": {},
   "outputs": [],
   "source": [
    "def read_ids(path):\n",
    "    with open(path) as f:\n",
    "        lines = f.readlines()\n",
    "    lines = [l.split(',')[0] for l in lines[1:]]\n",
    "    return lines\n",
    "\n",
    "def remove_chain_from_pdb(pdbs):\n",
    "    pdbs = [f'{p.split(\"_\")[0]}_{p.split(\"_\")[2]}' for p in pdbs]\n",
    "    return pdbs\n",
    "\n",
    "bgsu_ids = read_ids(bgsu_path)\n",
    "bgsu_ids = remove_chain_from_pdb(bgsu_ids)\n",
    "newseq_ids = read_ids(newseq_path)\n",
    "newfam_ids = read_ids(newfam_path)\n"
   ]
  },
  {
   "cell_type": "code",
   "execution_count": 12,
   "metadata": {},
   "outputs": [
    {
     "name": "stdout",
     "output_type": "stream",
     "text": [
      "1553\n",
      "1421\n"
     ]
    }
   ],
   "source": [
    "common_set = []\n",
    "common_set.extend(bgsu_ids)\n",
    "common_set.extend(newseq_ids)\n",
    "common_set.extend(newfam_ids)\n",
    "print(len(common_set))\n",
    "print(len(set(common_set)))\n"
   ]
  },
  {
   "cell_type": "code",
   "execution_count": 17,
   "metadata": {},
   "outputs": [
    {
     "name": "stdout",
     "output_type": "stream",
     "text": [
      "65\n",
      "67\n",
      "15\n"
     ]
    }
   ],
   "source": [
    "print(len(set(bgsu_ids).intersection(set(newseq_ids))))\n",
    "print(len(set(newseq_ids).intersection(set(newfam_ids))))\n",
    "print(len(set(bgsu_ids).intersection(set(newfam_ids))))"
   ]
  },
  {
   "cell_type": "code",
   "execution_count": null,
   "metadata": {},
   "outputs": [],
   "source": []
  }
 ],
 "metadata": {
  "kernelspec": {
   "display_name": "Python 3.8.5 ('base')",
   "language": "python",
   "name": "python3"
  },
  "language_info": {
   "codemirror_mode": {
    "name": "ipython",
    "version": 3
   },
   "file_extension": ".py",
   "mimetype": "text/x-python",
   "name": "python",
   "nbconvert_exporter": "python",
   "pygments_lexer": "ipython3",
   "version": "3.8.5"
  },
  "orig_nbformat": 4,
  "vscode": {
   "interpreter": {
    "hash": "dc64daf3f4cb34fd2a627a01a386acb4d813da83b9fc19fff854b5100519eb33"
   }
  }
 },
 "nbformat": 4,
 "nbformat_minor": 2
}
