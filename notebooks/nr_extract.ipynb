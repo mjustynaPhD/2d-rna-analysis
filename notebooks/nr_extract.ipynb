{
 "cells": [
  {
   "cell_type": "code",
   "execution_count": 1,
   "metadata": {},
   "outputs": [
    {
     "name": "stdout",
     "output_type": "stream",
     "text": [
      "1646\n"
     ]
    }
   ],
   "source": [
    "import os\n",
    "PATH = \"../../external-files/nrlist_3.242_3.0A.csv\"\n",
    "with open(PATH) as f:\n",
    "    lines = f.readlines()\n",
    "print(len(lines))"
   ]
  },
  {
   "cell_type": "code",
   "execution_count": 4,
   "metadata": {},
   "outputs": [],
   "source": [
    "pdbs = [l.strip() for l in lines]\n",
    "pdbs = [p.split(',')[1:2] for p in pdbs]\n",
    "\n",
    "def additional_chains(pdb):\n",
    "    if '+' in pdb:\n",
    "        pdb_ab = pdb.split(\"+\")\n",
    "        pdb_ab = [p.split(\"|\") for p in pdb_ab]\n",
    "        core = \"_\".join(pdb_ab[0][:-1])\n",
    "        pdb = f\"{core}_{pdb_ab[0][-1]}-{pdb_ab[1][-1]}\"\n",
    "    else:\n",
    "        pdb = pdb.split(\"|\")\n",
    "        pdb = \"_\".join(pdb)\n",
    "    return pdb\n",
    "\n",
    "def combine_ids(pdb_line):\n",
    "    pdbs = [p.replace(\"\\\"\", \"\").replace(\"\\'\", \"\") for p in pdb_line]\n",
    "    pdbs = [additional_chains(p) for p in pdbs]\n",
    "    return pdbs\n",
    "\n",
    "# example = \"1I9X|1|A+1I9X|1|B\"\n",
    "# additional_chains(example)\n",
    "\n",
    "# combine_ids(pdbs[0])\n",
    "pdbs = [combine_ids(p) for p in pdbs]\n",
    "pdbs = [p[0] for p in pdbs]"
   ]
  },
  {
   "cell_type": "code",
   "execution_count": 5,
   "metadata": {},
   "outputs": [
    {
     "data": {
      "text/plain": [
       "['6CFJ_1_1x',\n",
       " '5L4O_1_A',\n",
       " '5E81_1_2K',\n",
       " '6I0V_1_B',\n",
       " '6YDP_1_BB',\n",
       " '2DU3_1_D',\n",
       " '1KUQ_1_B',\n",
       " '5K77_1_X',\n",
       " '5J7L_1_DB',\n",
       " '3BT7_1_D']"
      ]
     },
     "execution_count": 5,
     "metadata": {},
     "output_type": "execute_result"
    }
   ],
   "source": [
    "pdbs[:10]"
   ]
  },
  {
   "cell_type": "code",
   "execution_count": 6,
   "metadata": {},
   "outputs": [],
   "source": [
    "with open('representants.txt', 'w') as f:\n",
    "    out = \"\\n\".join(pdbs)\n",
    "    f.writelines(out)"
   ]
  },
  {
   "cell_type": "code",
   "execution_count": null,
   "metadata": {},
   "outputs": [],
   "source": []
  }
 ],
 "metadata": {
  "kernelspec": {
   "display_name": "Python 3.8.5 ('base')",
   "language": "python",
   "name": "python3"
  },
  "language_info": {
   "codemirror_mode": {
    "name": "ipython",
    "version": 3
   },
   "file_extension": ".py",
   "mimetype": "text/x-python",
   "name": "python",
   "nbconvert_exporter": "python",
   "pygments_lexer": "ipython3",
   "version": "3.8.5"
  },
  "orig_nbformat": 4,
  "vscode": {
   "interpreter": {
    "hash": "dc64daf3f4cb34fd2a627a01a386acb4d813da83b9fc19fff854b5100519eb33"
   }
  }
 },
 "nbformat": 4,
 "nbformat_minor": 2
}
