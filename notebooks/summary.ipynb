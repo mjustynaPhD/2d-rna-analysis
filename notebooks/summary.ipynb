{
 "cells": [
  {
   "cell_type": "markdown",
   "id": "f2fdcc19-9a8d-47c7-a518-8f69ca2907d9",
   "metadata": {},
   "source": [
    "TODO:\n",
    "* znaleźć takie cząsteczki, dla których wszystkie metody miały MCC=0 (lub mniejsze niż jakiś próg). Potraktować je jako outliers."
   ]
  },
  {
   "cell_type": "code",
   "execution_count": 6,
   "id": "ca1a266f-4635-4242-9ab5-18e97d977b6e",
   "metadata": {},
   "outputs": [
    {
     "name": "stdout",
     "output_type": "stream",
     "text": [
      "The autoreload extension is already loaded. To reload it, use:\n",
      "  %reload_ext autoreload\n"
     ]
    }
   ],
   "source": [
    "import pandas as pd\n",
    "import matplotlib.pyplot as plt\n",
    "%load_ext autoreload"
   ]
  },
  {
   "cell_type": "code",
   "execution_count": 7,
   "id": "2cb445db-6821-4495-9399-fc1c4928140c",
   "metadata": {},
   "outputs": [
    {
     "name": "stdout",
     "output_type": "stream",
     "text": [
      "/data/2d-rna/validation-all-non0/results.rpt\n"
     ]
    }
   ],
   "source": [
    "!ls /data/2d-rna/validation-all-non0/results.rpt"
   ]
  },
  {
   "cell_type": "code",
   "execution_count": 8,
   "id": "e01a4336-57a3-4ef7-8081-dd768ac27676",
   "metadata": {},
   "outputs": [
    {
     "name": "stdout",
     "output_type": "stream",
     "text": [
      "1.txt\t\t diff.py\t\t    SPOT-RNA2\n",
      "2d-rna-analysis  fasta1000\t\t    SPOT-RNA2_features\n",
      "2.txt\t\t fasta500\t\t    SPOT-RNA2_outputs\n",
      "7z2107\t\t fasta600\t\t    test\n",
      "all\t\t fasta600-1800\t\t    tmp\n",
      "all500.fasta\t fasta-cifs\t\t    u-cifs\n",
      "all.txt\t\t ipknot\t\t\t    validation-all\n",
      "a.txt\t\t new-cifs\t\t    validation-all-non0\n",
      "bar-all.png\t predictions-bpseqs\t    validation-canon\n",
      "box-all.png\t predictions-raw\t    validation-canon-non0\n",
      "b.txt\t\t predictions-rna-structure  validation-noncanon\n",
      "canon.txt\t pseudoknots-bpseqs\t    validation-noncanon-non0\n",
      "cifs\t\t results\t\t    validation-pseudoknots\n",
      "cifs-awk\t rnapdbee-cifs\t\t    validation-results\n",
      "cifs-mini\t rna-structure-bpseqs\t    violin-all.png\n",
      "clean-non0.sh\t rna-struct-validation\n",
      "dbn-cifs\t seq500\n"
     ]
    }
   ],
   "source": [
    "! ls /data/2d-rna"
   ]
  },
  {
   "cell_type": "markdown",
   "id": "c4e9de5b-dfb6-45e7-b3bf-244f8033f8dd",
   "metadata": {},
   "source": [
    "## Load results"
   ]
  },
  {
   "cell_type": "code",
   "execution_count": 9,
   "id": "df0e2281-4497-4992-927d-c20a3652a24e",
   "metadata": {},
   "outputs": [],
   "source": [
    "res_path = \"/data/2d-rna/validation-all-non0/results.rpt\"\n",
    "out_path = \"all\""
   ]
  },
  {
   "cell_type": "code",
   "execution_count": 12,
   "id": "23213e6a-904b-4756-9525-b17787a1fd2b",
   "metadata": {},
   "outputs": [
    {
     "name": "stdout",
     "output_type": "stream",
     "text": [
      "The autoreload extension is already loaded. To reload it, use:\n",
      "  %reload_ext autoreload\n"
     ]
    }
   ],
   "source": [
    "%load_ext autoreload\n",
    "import os\n",
    "from rna2d.utils import get_results\n",
    "\n",
    "\n",
    "res_all = get_results(\"/data/2d-rna/validation-all-non0/results.rpt\")\n",
    "res_wc = get_results(\"/data/2d-rna/validation-canon-non0/results.rpt\")\n",
    "res_nwc = get_results(\"/data/2d-rna/validation-noncanon-non0/results.rpt\")\n",
    "res_pk = get_results( \"/data/2d-rna/validation-pseudoknots/results.rpt\")"
   ]
  },
  {
   "cell_type": "markdown",
   "id": "835e4f10-663d-4fda-976d-7e95f0b81653",
   "metadata": {},
   "source": [
    "` :/data/2d-rna/cifs$ ls | sed 's/.cif//g' | awk '{ print toupper($0) }' | sort | uniq | wc -l`<br>\n",
    "`12728` tyle jest unikalnych nazw w cząsteczek ignorując wielkoś znaków\n",
    "\n",
    "`11733` tyle jest rekordów dla narzędzi w pliku wynikowym. Brakujące mogą wynikać z niezgodności sekwencji. <br>\n",
    "TODO: \n",
    "Z pipeline usunąc \"^^\" i puścić jeszcze raz (toupper). Nazwy plików są poprawne."
   ]
  },
  {
   "cell_type": "markdown",
   "id": "2e72ad63-53a4-4695-8e03-c283d40fe157",
   "metadata": {},
   "source": [
    "### Filter results"
   ]
  },
  {
   "cell_type": "markdown",
   "id": "fcd5bcb3-f9e3-425a-99b9-38f56e24ea3f",
   "metadata": {},
   "source": [
    "Common subset"
   ]
  },
  {
   "cell_type": "code",
   "execution_count": 13,
   "id": "0f329bdb-350d-44fd-9b79-674d329d9c1d",
   "metadata": {},
   "outputs": [],
   "source": [
    "from rna2d.utils import get_subset_ids\n",
    "\n",
    "all_ids = get_subset_ids(res_all)\n",
    "wc_ids = get_subset_ids(res_wc)\n",
    "nwc_ids = get_subset_ids(res_nwc)\n",
    "pk_ids = get_subset_ids(res_pk)\n",
    "\n"
   ]
  },
  {
   "cell_type": "code",
   "execution_count": 14,
   "id": "f465a7a4-52e5-4c54-a0da-3eb4e9ae7931",
   "metadata": {},
   "outputs": [],
   "source": [
    "%autoreload\n",
    "from rna2d.utils import filter_common\n",
    "\n",
    "common_all = filter_common(all_ids)\n",
    "common_wc = filter_common(wc_ids)\n",
    "common_nwc = filter_common(nwc_ids)\n",
    "common_pk = filter_common(pk_ids)\n"
   ]
  },
  {
   "cell_type": "code",
   "execution_count": 15,
   "id": "7d631b7b",
   "metadata": {},
   "outputs": [],
   "source": [
    "with open(\"common-all.txt\", 'w') as f:\n",
    "    f.writelines(str(common_all))"
   ]
  },
  {
   "cell_type": "markdown",
   "id": "d334fee3-741f-4ca1-9ad8-31a2c3478765",
   "metadata": {},
   "source": [
    "Na tych czasteczkach puscic pomiar czasu. Czas - wall time <br>\n",
    "Wykluczyć wszystkie cząsteczki, które w targecie nie mają żadnej pary.(3 kolumna ma tylko 0 / Nie ma żadnej wartości większej niż 0)"
   ]
  },
  {
   "cell_type": "markdown",
   "id": "2e711184-ca7d-4557-b5d7-3c26d3924baa",
   "metadata": {},
   "source": [
    "Collect results for methods"
   ]
  },
  {
   "cell_type": "code",
   "execution_count": 16,
   "id": "2561c228-fdfe-4845-8285-c27aa813eb42",
   "metadata": {},
   "outputs": [
    {
     "name": "stdout",
     "output_type": "stream",
     "text": [
      "contextFold 7354\n",
      "contrafold 7354\n",
      "e2efold 7354\n",
      "mxfold 7354\n",
      "mxfold2 7354\n",
      "rna-state-inf 7354\n",
      "spot-rna 7354\n",
      "ipknot 7354\n",
      "rnafold 7354\n",
      "rna-structure 7354\n",
      "ufold 7354\n"
     ]
    }
   ],
   "source": [
    "from rna2d.utils import collect_results\n",
    "\n",
    "all_methods_results, all_indeces = collect_results(res_all, common_all, all_ids)\n",
    "wc_methods_results, wc_indeces = collect_results(res_wc, common_wc, wc_ids)\n",
    "nwc_methods_results, nwc_indeces = collect_results(res_nwc, common_nwc, nwc_ids)\n",
    "pk_methods_results, pk_indeces = collect_results(res_pk, common_pk, pk_ids)\n",
    "\n",
    "for m, v in all_methods_results.items():\n",
    "    print(m, len(v))"
   ]
  },
  {
   "cell_type": "code",
   "execution_count": 17,
   "id": "624c89ee-be04-4aa8-bf1c-4c62afaf6acf",
   "metadata": {},
   "outputs": [
    {
     "data": {
      "text/html": [
       "<div>\n",
       "<style scoped>\n",
       "    .dataframe tbody tr th:only-of-type {\n",
       "        vertical-align: middle;\n",
       "    }\n",
       "\n",
       "    .dataframe tbody tr th {\n",
       "        vertical-align: top;\n",
       "    }\n",
       "\n",
       "    .dataframe thead th {\n",
       "        text-align: right;\n",
       "    }\n",
       "</style>\n",
       "<table border=\"1\" class=\"dataframe\">\n",
       "  <thead>\n",
       "    <tr style=\"text-align: right;\">\n",
       "      <th></th>\n",
       "      <th>PPV</th>\n",
       "      <th>TPR</th>\n",
       "      <th>F1</th>\n",
       "      <th>INF</th>\n",
       "    </tr>\n",
       "  </thead>\n",
       "  <tbody>\n",
       "    <tr>\n",
       "      <th>3AGV_1_S</th>\n",
       "      <td>0.0</td>\n",
       "      <td>0.0</td>\n",
       "      <td>0.0</td>\n",
       "      <td>0.0</td>\n",
       "    </tr>\n",
       "    <tr>\n",
       "      <th>3AGV_1_U</th>\n",
       "      <td>0.0</td>\n",
       "      <td>0.0</td>\n",
       "      <td>0.0</td>\n",
       "      <td>0.0</td>\n",
       "    </tr>\n",
       "    <tr>\n",
       "      <th>3BOY_1_D</th>\n",
       "      <td>0.0</td>\n",
       "      <td>0.0</td>\n",
       "      <td>0.0</td>\n",
       "      <td>0.0</td>\n",
       "    </tr>\n",
       "    <tr>\n",
       "      <th>3DD2_1_B</th>\n",
       "      <td>0.0</td>\n",
       "      <td>0.0</td>\n",
       "      <td>0.0</td>\n",
       "      <td>0.0</td>\n",
       "    </tr>\n",
       "    <tr>\n",
       "      <th>3DKN_1_D-E</th>\n",
       "      <td>0.0</td>\n",
       "      <td>0.0</td>\n",
       "      <td>0.0</td>\n",
       "      <td>0.0</td>\n",
       "    </tr>\n",
       "  </tbody>\n",
       "</table>\n",
       "</div>"
      ],
      "text/plain": [
       "            PPV  TPR   F1  INF\n",
       "3AGV_1_S    0.0  0.0  0.0  0.0\n",
       "3AGV_1_U    0.0  0.0  0.0  0.0\n",
       "3BOY_1_D    0.0  0.0  0.0  0.0\n",
       "3DD2_1_B    0.0  0.0  0.0  0.0\n",
       "3DKN_1_D-E  0.0  0.0  0.0  0.0"
      ]
     },
     "execution_count": 17,
     "metadata": {},
     "output_type": "execute_result"
    }
   ],
   "source": [
    "df = pd.DataFrame(all_methods_results['spot-rna'], columns=['PPV', 'TPR', 'F1', 'INF'], index=all_indeces['spot-rna'])\n",
    "df.loc[df['INF']==0].head(100).tail()\n",
    "# df.head()"
   ]
  },
  {
   "cell_type": "code",
   "execution_count": 18,
   "id": "36c6159a-a5b6-49af-8a06-557c428d1b89",
   "metadata": {},
   "outputs": [],
   "source": [
    "%autoreload\n",
    "from rna2d.utils import get_means_stds\n",
    "\n",
    "all_means, all_stds, all_dfs = get_means_stds(all_methods_results, all_indeces, out_path='../results/all')\n",
    "wc_means, wc_stds, wc_dfs = get_means_stds(wc_methods_results, wc_indeces, out_path='../results/canon')\n",
    "nwc_means, nwc_stds, nwc_dfs = get_means_stds(nwc_methods_results, nwc_indeces, out_path='../results/noncanon')\n",
    "pk_means, pk_stds, pk_dfs = get_means_stds(pk_methods_results, pk_indeces, out_path='../results/pseudoknots')"
   ]
  },
  {
   "cell_type": "code",
   "execution_count": 19,
   "id": "b66d541d-1886-426c-bdfd-d26b9affc42b",
   "metadata": {},
   "outputs": [
    {
     "name": "stdout",
     "output_type": "stream",
     "text": [
      "0.2616651103994729\n",
      "0.6575358988305684\n"
     ]
    }
   ],
   "source": [
    "import numpy as np\n",
    "print(np.std(all_dfs['ufold'][\"INF\"].values))\n",
    "print(np.mean(all_dfs['ufold'][\"INF\"].values))"
   ]
  },
  {
   "cell_type": "markdown",
   "id": "1cf928b6-62d8-4db1-8065-3cc96597b452",
   "metadata": {},
   "source": [
    "## Summary"
   ]
  },
  {
   "cell_type": "code",
   "execution_count": 20,
   "id": "ac718342-81fa-4043-a4f3-e1674eafec5c",
   "metadata": {},
   "outputs": [],
   "source": [
    "%autoreload\n",
    "from rna2d.utils import get_DataFrames\n",
    "\n",
    "all_dfmeans, all_dfstds = get_DataFrames(all_means, all_stds, out_path=\"../results/all\", name='all')\n",
    "wc_dfmeans, wc_dfstds = get_DataFrames(wc_means, wc_stds, out_path=\"../results/canon\", name='wc')\n",
    "nwc_dfmeans, nwc_dfstds = get_DataFrames(nwc_means, nwc_stds, out_path=\"../results/noncanon\", name='nwc')\n",
    "pk_dfmeans, pk_dfstds = get_DataFrames(pk_means, pk_stds, out_path=\"../results/pseudoknots\", name='pk')"
   ]
  },
  {
   "cell_type": "markdown",
   "id": "8bda43e8",
   "metadata": {},
   "source": [
    "### Seaborn bar of means"
   ]
  },
  {
   "cell_type": "code",
   "execution_count": 52,
   "id": "5fe52193",
   "metadata": {},
   "outputs": [],
   "source": [
    "%autoreload 2\n",
    "from rna2d.utils import get_sns_data, get_names\n",
    "from rna2d.visualization import get_type_colors\n",
    "colors = get_type_colors()\n",
    "order = [\n",
    "    'contextFold',\n",
    "    'contrafold',\n",
    "    'mxfold',\n",
    "    'e2efold',\n",
    "    'mxfold2',\n",
    "    'rna-state-inf',\n",
    "    'spot-rna',\n",
    "    'ufold',\n",
    "    'ipknot',\n",
    "    'rnafold',\n",
    "    'rna-structure'\n",
    "    ]\n",
    "\n",
    "all_sns = get_sns_data(all_dfs, all_dfmeans, get_names(), order=order, colors_dict=colors)\n",
    "wc_sns = get_sns_data(wc_dfs, wc_dfmeans, get_names(), order=order, colors_dict=colors)\n",
    "nwc_sns = get_sns_data(nwc_dfs, nwc_dfmeans, get_names(), order=order, colors_dict=colors)\n",
    "pk_sns = get_sns_data(pk_dfs, pk_dfmeans, get_names(), order=order, colors_dict=colors)\n"
   ]
  },
  {
   "cell_type": "markdown",
   "id": "f72a1e5c-57ef-4348-9c77-63d9c756b6f9",
   "metadata": {},
   "source": [
    "## Seaborn violin plot"
   ]
  },
  {
   "cell_type": "code",
   "execution_count": 53,
   "id": "8563f248",
   "metadata": {},
   "outputs": [
    {
     "data": {
      "image/png": "[encoded data removed]",
      "text/plain": [
       "<Figure size 1440x432 with 2 Axes>"
      ]
     },
     "metadata": {},
     "output_type": "display_data"
    }
   ],
   "source": [
    "import seaborn as sns\n",
    "\n",
    "fig, axs = plt.subplots(1, 2, figsize=(20, 6))\n",
    "# plt.figure(figsize=(15,7))\n",
    "# sns.set_theme(style=\"whitegrid\")\n",
    "\n",
    "def violinplot(sns_df, df_means, axs, panel_id: str,  title, y_left=True, x_axis=True):\n",
    "    ax = sns.violinplot(x='INF', y='Method', inner=None, hue='Color', data=sns_df, ax=axs, cut=0, palette=\"colorblind\")\n",
    "    ax.set(title=title)\n",
    "    ax.set_ylabel(\"\")\n",
    "    if not y_left:\n",
    "        ax.set_ylabel(\"\")\n",
    "        ax.set_yticklabels(\"\")\n",
    "    if not x_axis:\n",
    "        ax.set_xlabel(\"\")\n",
    "    ax.text(-0.1, 1.1, panel_id, transform=ax.transAxes, \n",
    "            size=20, weight='bold')\n",
    "    ax.legend_.remove()\n",
    "    # ax.set_yticklabels(ax.get_yticklabels(), rotation = 30)        \n",
    "    # axR = ax.twinx() \n",
    "    # axR.yaxis.grid(False)#, linestyle='', which='major', color='grey', alpha=.25)\n",
    "    # pos = np.arange(len(ax.get_yticks()))\n",
    "    # axR.set_yticks(pos)\n",
    "    # axR.set_yticklabels(df_means['INF'])\n",
    "    # axR.set_ylim(ax.get_ylim())\n",
    "    # axR.set_ylabel(\"Mean INF\")\n",
    "\n",
    "\n",
    "violinplot(all_sns, all_dfmeans, axs[0], \"A\", \"All types of pairings.\", x_axis=False)\n",
    "violinplot(wc_sns, wc_dfmeans, axs[1],\"B\", \"WCF pairings.\", y_left=True, x_axis=False)\n",
    "# violinplot(nwc_sns, nwc_dfmeans, axs[1][0], \"Non-WCF pairings.\", y_left=True, x_axis=True)\n",
    "# violinplot(pk_sns, pk_dfmeans, axs[1][1], \"Pseudoknots pairings.\", y_left=True, x_axis=True"
   ]
  },
  {
   "cell_type": "code",
   "execution_count": null,
   "id": "4516a6a1",
   "metadata": {},
   "outputs": [],
   "source": []
  }
 ],
 "metadata": {
  "kernelspec": {
   "display_name": "Python 3.8.5 ('base')",
   "language": "python",
   "name": "python3"
  },
  "language_info": {
   "codemirror_mode": {
    "name": "ipython",
    "version": 3
   },
   "file_extension": ".py",
   "mimetype": "text/x-python",
   "name": "python",
   "nbconvert_exporter": "python",
   "pygments_lexer": "ipython3",
   "version": "3.8.5"
  },
  "vscode": {
   "interpreter": {
    "hash": "dc64daf3f4cb34fd2a627a01a386acb4d813da83b9fc19fff854b5100519eb33"
   }
  }
 },
 "nbformat": 4,
 "nbformat_minor": 5
}
