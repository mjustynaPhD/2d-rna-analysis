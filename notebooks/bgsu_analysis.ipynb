{
 "cells": [
  {
   "cell_type": "markdown",
   "metadata": {},
   "source": [
    "#### Representatives extraction from bgsu database (3A resolution constraint)\n",
    "[Link](http://rna.bgsu.edu/rna3dhub/nrlist/release/3.242/3.0A)"
   ]
  },
  {
   "cell_type": "code",
   "execution_count": 7,
   "metadata": {},
   "outputs": [
    {
     "name": "stdout",
     "output_type": "stream",
     "text": [
      "The autoreload extension is already loaded. To reload it, use:\n",
      "  %reload_ext autoreload\n"
     ]
    }
   ],
   "source": [
    "%load_ext autoreload\n",
    "%autoreload 2"
   ]
  },
  {
   "cell_type": "code",
   "execution_count": 8,
   "metadata": {},
   "outputs": [],
   "source": [
    "import os\n",
    "from rna2d.pipelines import BGSURepresentatives\n",
    "PATH = \"../external-files/nrlist_3.242_3.0A.csv\"\n",
    "bgsu = BGSURepresentatives()\n",
    "pdbs = bgsu.extract_representatives(PATH)\n",
    "with open('../metadata/representants.txt', 'w') as f:\n",
    "    out = \"\\n\".join(pdbs)\n",
    "    f.writelines(out)"
   ]
  },
  {
   "cell_type": "code",
   "execution_count": 4,
   "metadata": {},
   "outputs": [
    {
     "name": "stdout",
     "output_type": "stream",
     "text": [
      "['3SKI_1_A', '2HVY_1_E', '4PMI_1_A', '1FFK_1_9', '2CSX_1_C', '2ZNI_1_C', '4Y1J_1_A', '4KZD_1_R', '4V83_1_AV', '2A64_1_A']\n",
      "120 106 39\n"
     ]
    }
   ],
   "source": [
    "import os\n",
    "train_pdbs = \"../external-files/PDB_dataset/TR1_sequences/\"\n",
    "test_pdbs1 = \"../external-files/PDB_dataset/TS1_sequences/\"\n",
    "test_pdbs2 = \"../external-files/PDB_dataset/TS2_sequences/\"\n",
    "\n",
    "def get_pdb_ids(path):\n",
    "    pdbs = os.listdir(path)\n",
    "    pdbs = [p.replace(\"-\", \"_\") for p in pdbs]\n",
    "    pdbs = [f'{p[:4].upper()}{p[4:]}' for p in pdbs]\n",
    "    return pdbs\n",
    "\n",
    "trpdbs = get_pdb_ids(train_pdbs)\n",
    "tspdbs1 = get_pdb_ids(test_pdbs1)\n",
    "tspdbs2 = get_pdb_ids(test_pdbs2)\n",
    "tspdbs1.extend(tspdbs2)\n",
    "print(trpdbs[:10])\n",
    "print(len(trpdbs), len(tspdbs1), len(tspdbs2))"
   ]
  },
  {
   "cell_type": "markdown",
   "metadata": {},
   "source": [
    "Cząsteczki ze zbioru treningowego SPOT-RNA wśród reprezentantów:"
   ]
  },
  {
   "cell_type": "code",
   "execution_count": 5,
   "metadata": {},
   "outputs": [
    {
     "name": "stdout",
     "output_type": "stream",
     "text": [
      "Intersection: 57\n",
      "Diffrefence: 1589\n"
     ]
    }
   ],
   "source": [
    "intersection = set(pdbs).intersection(trpdbs)\n",
    "diffrerence = set(pdbs).difference(trpdbs)\n",
    "print(f'Intersection: {len(intersection)}')\n",
    "print(f'Diffrefence: {len(diffrerence)}')\n",
    "with open(\"bgsu-representants.txt\", 'w') as f:\n",
    "    out = \"\\n\".join(diffrerence)\n",
    "    f.writelines(out)"
   ]
  },
  {
   "cell_type": "code",
   "execution_count": 6,
   "metadata": {},
   "outputs": [
    {
     "name": "stdout",
     "output_type": "stream",
     "text": [
      "7354 552\n"
     ]
    }
   ],
   "source": [
    "%autoreload 2\n",
    "from rna2d.pipelines import Results\n",
    "\n",
    "all_path = \"/data/2d-rna/validation-all-non0/results.rpt\"\n",
    "p = Results(all_path)\n",
    "all_res, all_ind = p.run_for_all()\n",
    "all_fres, all_find = p.filter_by_molecules(all_res, all_ind, \"../metadata/representants.txt\")\n",
    "print(len(all_res['spot-rna']), len(all_fres['spot-rna']))"
   ]
  },
  {
   "cell_type": "code",
   "execution_count": null,
   "metadata": {},
   "outputs": [],
   "source": []
  }
 ],
 "metadata": {
  "kernelspec": {
   "display_name": "Python 3.8.5 ('base')",
   "language": "python",
   "name": "python3"
  },
  "language_info": {
   "codemirror_mode": {
    "name": "ipython",
    "version": 3
   },
   "file_extension": ".py",
   "mimetype": "text/x-python",
   "name": "python",
   "nbconvert_exporter": "python",
   "pygments_lexer": "ipython3",
   "version": "3.8.5"
  },
  "orig_nbformat": 4,
  "vscode": {
   "interpreter": {
    "hash": "dc64daf3f4cb34fd2a627a01a386acb4d813da83b9fc19fff854b5100519eb33"
   }
  }
 },
 "nbformat": 4,
 "nbformat_minor": 2
}
