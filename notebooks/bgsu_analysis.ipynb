{
 "cells": [
  {
   "cell_type": "markdown",
   "metadata": {},
   "source": [
    "#### Representatives extraction from bgsu database (3A resolution constraint)\n",
    "[Link](http://rna.bgsu.edu/rna3dhub/nrlist/release/3.242/3.0A)"
   ]
  },
  {
   "cell_type": "code",
   "execution_count": 1,
   "metadata": {},
   "outputs": [
    {
     "name": "stdout",
     "output_type": "stream",
     "text": [
      "1646\n"
     ]
    }
   ],
   "source": [
    "import os\n",
    "PATH = \"../external-files/nrlist_3.242_3.0A.csv\"\n",
    "with open(PATH) as f:\n",
    "    lines = f.readlines()\n",
    "print(len(lines))"
   ]
  },
  {
   "cell_type": "code",
   "execution_count": 2,
   "metadata": {},
   "outputs": [
    {
     "name": "stdout",
     "output_type": "stream",
     "text": [
      "['6CFJ_1_1x', '5L4O_1_A', '5E81_1_2K', '6I0V_1_B', '6YDP_1_BB', '2DU3_1_D', '1KUQ_1_B', '5K77_1_X', '5J7L_1_DB', '3BT7_1_D']\n"
     ]
    }
   ],
   "source": [
    "pdbs = [l.strip() for l in lines]\n",
    "pdbs = [p.split(',')[1:2] for p in pdbs]\n",
    "\n",
    "def additional_chains(pdb):\n",
    "    if '+' in pdb:\n",
    "        pdb_ab = pdb.split(\"+\")\n",
    "        pdb_ab = [p.split(\"|\") for p in pdb_ab]\n",
    "        core = \"_\".join(pdb_ab[0][:-1])\n",
    "        pdb = f\"{core}_{pdb_ab[0][-1]}-{pdb_ab[1][-1]}\"\n",
    "    else:\n",
    "        pdb = pdb.split(\"|\")\n",
    "        pdb = \"_\".join(pdb)\n",
    "    return pdb\n",
    "\n",
    "def combine_ids(pdb_line):\n",
    "    pdbs = [p.replace(\"\\\"\", \"\").replace(\"\\'\", \"\") for p in pdb_line]\n",
    "    pdbs = [additional_chains(p) for p in pdbs]\n",
    "    return pdbs\n",
    "\n",
    "pdbs = [combine_ids(p) for p in pdbs]\n",
    "pdbs = [p[0] for p in pdbs]\n",
    "pdb_repres = [f'{p.split(\"_\")[0]}_{p.split(\"_\")[2]}' for p in pdbs]\n",
    "print(pdbs[:10])\n",
    "\n",
    "with open('../metadata/representants.txt', 'w') as f:\n",
    "    out = \"\\n\".join(pdbs)\n",
    "    f.writelines(out)"
   ]
  },
  {
   "cell_type": "code",
   "execution_count": 3,
   "metadata": {},
   "outputs": [
    {
     "name": "stdout",
     "output_type": "stream",
     "text": [
      "['3SKI_1_A', '2HVY_1_E', '4PMI_1_A', '1FFK_1_9', '2CSX_1_C', '2ZNI_1_C', '4Y1J_1_A', '4KZD_1_R', '4V83_1_AV', '2A64_1_A']\n",
      "120 106 39\n"
     ]
    }
   ],
   "source": [
    "import os\n",
    "train_pdbs = \"../external-files/PDB_dataset/TR1_sequences/\"\n",
    "test_pdbs1 = \"../external-files/PDB_dataset/TS1_sequences/\"\n",
    "test_pdbs2 = \"../external-files/PDB_dataset/TS2_sequences/\"\n",
    "\n",
    "def get_pdb_ids(path):\n",
    "    pdbs = os.listdir(path)\n",
    "    pdbs = [p.replace(\"-\", \"_\") for p in pdbs]\n",
    "    pdbs = [f'{p[:4].upper()}{p[4:]}' for p in pdbs]\n",
    "    return pdbs\n",
    "\n",
    "trpdbs = get_pdb_ids(train_pdbs)\n",
    "tspdbs1 = get_pdb_ids(test_pdbs1)\n",
    "tspdbs2 = get_pdb_ids(test_pdbs2)\n",
    "tspdbs1.extend(tspdbs2)\n",
    "print(trpdbs[:10])\n",
    "print(len(trpdbs), len(tspdbs1), len(tspdbs2))"
   ]
  },
  {
   "cell_type": "markdown",
   "metadata": {},
   "source": [
    "Cząsteczki ze zbioru treningowego SPOT-RNA wśród reprezentantów:"
   ]
  },
  {
   "cell_type": "code",
   "execution_count": 5,
   "metadata": {},
   "outputs": [
    {
     "name": "stdout",
     "output_type": "stream",
     "text": [
      "Intersection: 57\n",
      "Diffrefence: 1589\n"
     ]
    }
   ],
   "source": [
    "intersection = set(pdbs).intersection(trpdbs)\n",
    "diffrerence = set(pdbs).difference(trpdbs)\n",
    "print(f'Intersection: {len(intersection)}')\n",
    "print(f'Diffrefence: {len(diffrerence)}')"
   ]
  },
  {
   "cell_type": "code",
   "execution_count": null,
   "metadata": {},
   "outputs": [],
   "source": []
  }
 ],
 "metadata": {
  "kernelspec": {
   "display_name": "Python 3.8.5 ('base')",
   "language": "python",
   "name": "python3"
  },
  "language_info": {
   "codemirror_mode": {
    "name": "ipython",
    "version": 3
   },
   "file_extension": ".py",
   "mimetype": "text/x-python",
   "name": "python",
   "nbconvert_exporter": "python",
   "pygments_lexer": "ipython3",
   "version": "3.8.5"
  },
  "orig_nbformat": 4,
  "vscode": {
   "interpreter": {
    "hash": "dc64daf3f4cb34fd2a627a01a386acb4d813da83b9fc19fff854b5100519eb33"
   }
  }
 },
 "nbformat": 4,
 "nbformat_minor": 2
}
