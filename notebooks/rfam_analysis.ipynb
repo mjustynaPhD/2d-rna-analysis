{
 "cells": [
  {
   "cell_type": "code",
   "execution_count": 1,
   "metadata": {},
   "outputs": [],
   "source": [
    "%load_ext autoreload"
   ]
  },
  {
   "cell_type": "markdown",
   "metadata": {},
   "source": [
    "### Finding new Rfam families only"
   ]
  },
  {
   "cell_type": "code",
   "execution_count": 2,
   "metadata": {},
   "outputs": [
    {
     "name": "stdout",
     "output_type": "stream",
     "text": [
      "5736 7659\n"
     ]
    }
   ],
   "source": [
    "%autoreload\n",
    "from rna2d.utils import Rfam\n",
    "\n",
    "rfam142 = \"../external-files/rfam-14.2/Rfam.pdb\"\n",
    "rfam148 = \"../external-files/rfam-14.8/Rfam.pdb\"\n",
    "\n",
    "rfam = Rfam()\n",
    "rfam2_mapping = rfam.get_pdb_family_mapping(rfam142)\n",
    "rfam8_mapping = rfam.get_pdb_family_mapping(rfam148)\n",
    "print(len(rfam2_mapping), len(rfam8_mapping))"
   ]
  },
  {
   "cell_type": "code",
   "execution_count": 3,
   "metadata": {},
   "outputs": [
    {
     "name": "stdout",
     "output_type": "stream",
     "text": [
      "108 125\n",
      "2vs8: 5, 8vs2:22, intersection:103\n",
      "{'RF02678', 'RF00525', 'RF00030', 'RF00957', 'RF00240', 'RF00007', 'RF03054', 'RF02340', 'RF04190', 'RF00106', 'RF00507', 'RF00619', 'RF00075', 'RF01047', 'RF03013', 'RF01330', 'RF01357', 'RF00012', 'RF00024', 'RF01415', 'RF02681', 'RF01084'}\n",
      "83\n"
     ]
    }
   ],
   "source": [
    "%autoreload\n",
    "rfam2_ids = set(rfam.get_families_ids(rfam142))\n",
    "rfam8_ids = set(rfam.get_families_ids(rfam148))\n",
    "\n",
    "a = rfam2_ids.difference(rfam8_ids)\n",
    "b = rfam8_ids.difference(rfam2_ids)\n",
    "i = rfam2_ids.intersection(rfam8_ids)\n",
    "\n",
    "print(len(rfam2_ids), len(rfam8_ids))\n",
    "print(f'2vs8: {len(a)}, 8vs2:{len(b)}, intersection:{len(i)}')\n",
    "print(b)\n",
    "\n",
    "rfam8_fams = rfam.get_pdb_family_mapping(rfam148, b)\n",
    "print(len(rfam8_fams))\n"
   ]
  },
  {
   "cell_type": "code",
   "execution_count": 4,
   "metadata": {},
   "outputs": [
    {
     "name": "stdout",
     "output_type": "stream",
     "text": [
      "['1ASY_R', '1ASY_S', '1ASZ_R', '1ASZ_S', '1B23_R', '1C04_E', '1C0A_B', '1C2W_B', '1C2X_C', '1EFW_C']\n",
      "['1ASY_R', '1ASY_S', '1ASZ_R', '1ASZ_S', '1B23_R', '1C04_E', '1C0A_B', '1C2W_B', '1C2X_C', '1EFW_C']\n"
     ]
    }
   ],
   "source": [
    "print(sorted(list(rfam2_mapping.keys()))[:10])\n",
    "print(sorted(list(rfam8_mapping.keys()))[:10])"
   ]
  },
  {
   "cell_type": "code",
   "execution_count": 5,
   "metadata": {},
   "outputs": [
    {
     "name": "stdout",
     "output_type": "stream",
     "text": [
      "1977\n",
      "['1M5K_B', '1M5K_E', '1M5O_B', '1M5O_E', '1M5P_B', '1M5P_E', '1M5V_B', '1M5V_E', '3IZZ_D', '4C9D_C']\n"
     ]
    }
   ],
   "source": [
    "new_mapping = rfam.get_new_keys_only(rfam2_mapping, rfam8_mapping)\n",
    "print(len(new_mapping))\n",
    "print(sorted(list(new_mapping.keys()))[:10])"
   ]
  },
  {
   "cell_type": "markdown",
   "metadata": {},
   "source": [
    "### Remove SPOT-RNA training examples"
   ]
  },
  {
   "cell_type": "code",
   "execution_count": 6,
   "metadata": {},
   "outputs": [
    {
     "name": "stdout",
     "output_type": "stream",
     "text": [
      "Common: 1\n",
      "1976\n",
      "['1C0A_B', '1DDY_A', '1DK1_B', '1DUL_B', '1FFK_9']\n"
     ]
    }
   ],
   "source": [
    "import os\n",
    "train_pdbs = \"../external-files/PDB_dataset/TR1_sequences/\"\n",
    "def get_pdb_ids(path):\n",
    "    pdbs = os.listdir(path)\n",
    "    pdbs = [p.replace(\"-\", \"_\") for p in pdbs]\n",
    "    pdbs = [f'{p[:4].upper()}{p[4:]}' for p in pdbs]\n",
    "    pdbs = [f'{p.split(\"_\")[0]}_{p.split(\"_\")[2]}' for p in pdbs]\n",
    "    return pdbs\n",
    "\n",
    "trpdbs = get_pdb_ids(train_pdbs)\n",
    "\n",
    "nm = set(new_mapping.keys())\n",
    "tp = set(trpdbs)\n",
    "diff = nm.intersection(tp)\n",
    "print(f'Common: {len(diff)}')\n",
    "\n",
    "new_mapping = rfam.filter_out_list(trpdbs, new_mapping)\n",
    "print(len(new_mapping))\n",
    "print(sorted(trpdbs)[:5])"
   ]
  },
  {
   "cell_type": "markdown",
   "metadata": {},
   "source": [
    "List of missing cif files"
   ]
  },
  {
   "cell_type": "code",
   "execution_count": null,
   "metadata": {},
   "outputs": [],
   "source": [
    "new_cifs = os.listdir('/data/2d-rna/new-cifs/cifs')\n",
    "cifs_ids = [x.replace('.cif', '') for x in new_cifs]\n",
    "cifs_ids = [f'{p.split(\"_\")[0]}_{p.split(\"_\")[2]}' for p in cifs_ids]\n",
    "out = []\n",
    "out_ids = []\n",
    "for a, b in zip(cifs_ids, new_cifs):\n",
    "    if a in new_mapping:\n",
    "        out.append(b)\n",
    "        out_ids.append(a)\n",
    "\n",
    "# for m in new_mapping:\n",
    "#     if m not in cifs_ids:\n",
    "#         print(m)\n",
    "\n",
    "print(len(out))\n",
    "print(out[:10])\n",
    "print(out_ids[:10])"
   ]
  },
  {
   "cell_type": "code",
   "execution_count": 8,
   "metadata": {},
   "outputs": [],
   "source": [
    "fams = [new_mapping[p] for p in new_mapping]"
   ]
  },
  {
   "cell_type": "code",
   "execution_count": 9,
   "metadata": {},
   "outputs": [],
   "source": [
    "from collections import Counter\n",
    "import matplotlib.pyplot as plt\n",
    "\n",
    "c = Counter(fams)\n",
    "vals = list(c.values())\n",
    "keys = list(c.keys())\n",
    "vk = sorted(zip(keys, vals), key=lambda x : x[1], reverse=True)\n",
    "keys = [x[0] for x in vk]\n",
    "vals = [x[1] for x in vk]\n"
   ]
  },
  {
   "cell_type": "code",
   "execution_count": 10,
   "metadata": {},
   "outputs": [
    {
     "data": {
      "image/png": "[encoded data removed]",
      "text/plain": [
       "<Figure size 1080x720 with 1 Axes>"
      ]
     },
     "metadata": {
      "needs_background": "light"
     },
     "output_type": "display_data"
    }
   ],
   "source": [
    "plt.figure(figsize=(15,10))\n",
    "plt.scatter(keys, vals)\n",
    "_ = plt.xticks(rotation=50)"
   ]
  },
  {
   "cell_type": "code",
   "execution_count": 11,
   "metadata": {},
   "outputs": [],
   "source": [
    "from rna2d.pipelines import Pipeline\n",
    "p = Pipeline(\"/data/2d-rna/validation-all-non0/results.rpt\")\n",
    "methods, indeces = p.run_for_all()\n",
    "pdb_repres = [f'{p.split(\"_\")[0]}_{p.split(\"_\")[2]}' for p in indeces['spot-rna']]"
   ]
  },
  {
   "cell_type": "code",
   "execution_count": 13,
   "metadata": {},
   "outputs": [
    {
     "name": "stdout",
     "output_type": "stream",
     "text": [
      "427\n",
      "Common ids: 889\n"
     ]
    }
   ],
   "source": [
    "import pandas as pd\n",
    "from rna2d.utils import get_names\n",
    "tool = 'e2efold'\n",
    "converted_indeces = [f'{p.split(\"_\")[0]}_{p.split(\"_\")[2]}' for p in indeces[tool]]\n",
    "common_ind = set(converted_indeces)\n",
    "common_ind = list(common_ind.intersection(set(new_mapping.keys())))\n",
    "\n",
    "print(len(set(out_ids).intersection(set(common_ind))))\n",
    "# df = pd.DataFrame(methods[tool], columns=[\n",
    "#                   'PPV', 'TPR', 'F1', 'INF'], index=indeces[tool])\n",
    "# print(df['INF'].max())\n",
    "# x = df.loc[df['INF']>0.9].head(100).tail()\n",
    "# print(len(x))\n",
    "print(f'Common ids: {len(common_ind)}')\n",
    "res = {}\n",
    "conv_ind = {}\n",
    "for k in get_names():\n",
    "    converted_indeces = [f'{p.split(\"_\")[0]}_{p.split(\"_\")[2]}' for p in indeces[k]]\n",
    "    df = pd.DataFrame(methods[k], columns=[\n",
    "                  'PPV', 'TPR', 'F1', 'INF'], index=converted_indeces)\n",
    "    conv_ind[k]=converted_indeces\n",
    "    res[k] =  df.loc[common_ind]"
   ]
  },
  {
   "cell_type": "code",
   "execution_count": 88,
   "metadata": {},
   "outputs": [
    {
     "data": {
      "image/png": "[encoded data removed]",
      "text/plain": [
       "<Figure size 1440x720 with 1 Axes>"
      ]
     },
     "metadata": {
      "needs_background": "light"
     },
     "output_type": "display_data"
    }
   ],
   "source": [
    "import matplotlib.pyplot as plt\n",
    "import seaborn as sns\n",
    "from rna2d.utils import get_sns_data, get_means_stds, get_DataFrames\n",
    "\n",
    "%autoreload\n",
    "means, stds, dfs = get_means_stds(res, conv_ind)\n",
    "dfmeans, dfstds = get_DataFrames(means, stds, name='nwc')\n",
    "\n",
    "d = get_sns_data(res, dfmeans, get_names())\n",
    "\n",
    "fig, axs = plt.subplots(1, figsize=(20, 10))\n",
    "ax = sns.violinplot(x='INF', y='Method', inner=None, color='grey', data=d, ax=axs, cut=0)"
   ]
  },
  {
   "cell_type": "code",
   "execution_count": 89,
   "metadata": {},
   "outputs": [
    {
     "data": {
      "text/html": [
       "<div>\n",
       "<style scoped>\n",
       "    .dataframe tbody tr th:only-of-type {\n",
       "        vertical-align: middle;\n",
       "    }\n",
       "\n",
       "    .dataframe tbody tr th {\n",
       "        vertical-align: top;\n",
       "    }\n",
       "\n",
       "    .dataframe thead th {\n",
       "        text-align: right;\n",
       "    }\n",
       "</style>\n",
       "<table border=\"1\" class=\"dataframe\">\n",
       "  <thead>\n",
       "    <tr style=\"text-align: right;\">\n",
       "      <th></th>\n",
       "      <th>PPV</th>\n",
       "      <th>TPR</th>\n",
       "      <th>F1</th>\n",
       "      <th>INF</th>\n",
       "    </tr>\n",
       "  </thead>\n",
       "  <tbody>\n",
       "    <tr>\n",
       "      <th>spot-rna</th>\n",
       "      <td>0.64</td>\n",
       "      <td>0.90</td>\n",
       "      <td>0.74</td>\n",
       "      <td>0.76</td>\n",
       "    </tr>\n",
       "    <tr>\n",
       "      <th>ufold</th>\n",
       "      <td>0.55</td>\n",
       "      <td>0.90</td>\n",
       "      <td>0.68</td>\n",
       "      <td>0.70</td>\n",
       "    </tr>\n",
       "    <tr>\n",
       "      <th>mxfold2</th>\n",
       "      <td>0.52</td>\n",
       "      <td>0.84</td>\n",
       "      <td>0.64</td>\n",
       "      <td>0.66</td>\n",
       "    </tr>\n",
       "    <tr>\n",
       "      <th>contextFold</th>\n",
       "      <td>0.50</td>\n",
       "      <td>0.85</td>\n",
       "      <td>0.63</td>\n",
       "      <td>0.65</td>\n",
       "    </tr>\n",
       "    <tr>\n",
       "      <th>ipknot</th>\n",
       "      <td>0.42</td>\n",
       "      <td>0.71</td>\n",
       "      <td>0.52</td>\n",
       "      <td>0.54</td>\n",
       "    </tr>\n",
       "    <tr>\n",
       "      <th>e2efold</th>\n",
       "      <td>0.39</td>\n",
       "      <td>0.70</td>\n",
       "      <td>0.50</td>\n",
       "      <td>0.52</td>\n",
       "    </tr>\n",
       "    <tr>\n",
       "      <th>rnafold</th>\n",
       "      <td>0.41</td>\n",
       "      <td>0.62</td>\n",
       "      <td>0.49</td>\n",
       "      <td>0.51</td>\n",
       "    </tr>\n",
       "    <tr>\n",
       "      <th>mxfold</th>\n",
       "      <td>0.39</td>\n",
       "      <td>0.68</td>\n",
       "      <td>0.49</td>\n",
       "      <td>0.51</td>\n",
       "    </tr>\n",
       "    <tr>\n",
       "      <th>contrafold</th>\n",
       "      <td>0.40</td>\n",
       "      <td>0.61</td>\n",
       "      <td>0.48</td>\n",
       "      <td>0.50</td>\n",
       "    </tr>\n",
       "    <tr>\n",
       "      <th>rna-state-inf</th>\n",
       "      <td>0.36</td>\n",
       "      <td>0.57</td>\n",
       "      <td>0.44</td>\n",
       "      <td>0.45</td>\n",
       "    </tr>\n",
       "    <tr>\n",
       "      <th>rna-structure</th>\n",
       "      <td>0.28</td>\n",
       "      <td>0.43</td>\n",
       "      <td>0.33</td>\n",
       "      <td>0.34</td>\n",
       "    </tr>\n",
       "  </tbody>\n",
       "</table>\n",
       "</div>"
      ],
      "text/plain": [
       "                PPV   TPR    F1   INF\n",
       "spot-rna       0.64  0.90  0.74  0.76\n",
       "ufold          0.55  0.90  0.68  0.70\n",
       "mxfold2        0.52  0.84  0.64  0.66\n",
       "contextFold    0.50  0.85  0.63  0.65\n",
       "ipknot         0.42  0.71  0.52  0.54\n",
       "e2efold        0.39  0.70  0.50  0.52\n",
       "rnafold        0.41  0.62  0.49  0.51\n",
       "mxfold         0.39  0.68  0.49  0.51\n",
       "contrafold     0.40  0.61  0.48  0.50\n",
       "rna-state-inf  0.36  0.57  0.44  0.45\n",
       "rna-structure  0.28  0.43  0.33  0.34"
      ]
     },
     "execution_count": 89,
     "metadata": {},
     "output_type": "execute_result"
    }
   ],
   "source": [
    "dfmeans"
   ]
  },
  {
   "cell_type": "code",
   "execution_count": 85,
   "metadata": {},
   "outputs": [
    {
     "data": {
      "text/html": [
       "<div>\n",
       "<style scoped>\n",
       "    .dataframe tbody tr th:only-of-type {\n",
       "        vertical-align: middle;\n",
       "    }\n",
       "\n",
       "    .dataframe tbody tr th {\n",
       "        vertical-align: top;\n",
       "    }\n",
       "\n",
       "    .dataframe thead th {\n",
       "        text-align: right;\n",
       "    }\n",
       "</style>\n",
       "<table border=\"1\" class=\"dataframe\">\n",
       "  <thead>\n",
       "    <tr style=\"text-align: right;\">\n",
       "      <th></th>\n",
       "      <th>PPV</th>\n",
       "      <th>TPR</th>\n",
       "      <th>F1</th>\n",
       "      <th>INF</th>\n",
       "    </tr>\n",
       "  </thead>\n",
       "  <tbody>\n",
       "    <tr>\n",
       "      <th>7B7D_LB</th>\n",
       "      <td>0.838</td>\n",
       "      <td>0.838</td>\n",
       "      <td>0.838</td>\n",
       "      <td>0.838</td>\n",
       "    </tr>\n",
       "    <tr>\n",
       "      <th>7P3K_V</th>\n",
       "      <td>0.857</td>\n",
       "      <td>1.000</td>\n",
       "      <td>0.923</td>\n",
       "      <td>0.926</td>\n",
       "    </tr>\n",
       "    <tr>\n",
       "      <th>7NRD_LB</th>\n",
       "      <td>0.829</td>\n",
       "      <td>0.829</td>\n",
       "      <td>0.829</td>\n",
       "      <td>0.829</td>\n",
       "    </tr>\n",
       "    <tr>\n",
       "      <th>6ZMW_w</th>\n",
       "      <td>0.579</td>\n",
       "      <td>0.647</td>\n",
       "      <td>0.611</td>\n",
       "      <td>0.612</td>\n",
       "    </tr>\n",
       "    <tr>\n",
       "      <th>6XII_d</th>\n",
       "      <td>0.257</td>\n",
       "      <td>0.250</td>\n",
       "      <td>0.254</td>\n",
       "      <td>0.254</td>\n",
       "    </tr>\n",
       "    <tr>\n",
       "      <th>...</th>\n",
       "      <td>...</td>\n",
       "      <td>...</td>\n",
       "      <td>...</td>\n",
       "      <td>...</td>\n",
       "    </tr>\n",
       "    <tr>\n",
       "      <th>7K52_5</th>\n",
       "      <td>0.952</td>\n",
       "      <td>1.000</td>\n",
       "      <td>0.976</td>\n",
       "      <td>0.976</td>\n",
       "    </tr>\n",
       "    <tr>\n",
       "      <th>6WDC_7</th>\n",
       "      <td>0.909</td>\n",
       "      <td>1.000</td>\n",
       "      <td>0.952</td>\n",
       "      <td>0.953</td>\n",
       "    </tr>\n",
       "    <tr>\n",
       "      <th>7MSC_B</th>\n",
       "      <td>0.903</td>\n",
       "      <td>1.000</td>\n",
       "      <td>0.949</td>\n",
       "      <td>0.950</td>\n",
       "    </tr>\n",
       "    <tr>\n",
       "      <th>6XHV_1y</th>\n",
       "      <td>0.905</td>\n",
       "      <td>1.000</td>\n",
       "      <td>0.950</td>\n",
       "      <td>0.951</td>\n",
       "    </tr>\n",
       "    <tr>\n",
       "      <th>6ZMO_L7</th>\n",
       "      <td>0.917</td>\n",
       "      <td>0.943</td>\n",
       "      <td>0.930</td>\n",
       "      <td>0.930</td>\n",
       "    </tr>\n",
       "  </tbody>\n",
       "</table>\n",
       "<p>887 rows × 4 columns</p>\n",
       "</div>"
      ],
      "text/plain": [
       "           PPV    TPR     F1    INF\n",
       "7B7D_LB  0.838  0.838  0.838  0.838\n",
       "7P3K_V   0.857  1.000  0.923  0.926\n",
       "7NRD_LB  0.829  0.829  0.829  0.829\n",
       "6ZMW_w   0.579  0.647  0.611  0.612\n",
       "6XII_d   0.257  0.250  0.254  0.254\n",
       "...        ...    ...    ...    ...\n",
       "7K52_5   0.952  1.000  0.976  0.976\n",
       "6WDC_7   0.909  1.000  0.952  0.953\n",
       "7MSC_B   0.903  1.000  0.949  0.950\n",
       "6XHV_1y  0.905  1.000  0.950  0.951\n",
       "6ZMO_L7  0.917  0.943  0.930  0.930\n",
       "\n",
       "[887 rows x 4 columns]"
      ]
     },
     "execution_count": 85,
     "metadata": {},
     "output_type": "execute_result"
    }
   ],
   "source": [
    "res['rna-structure']\n"
   ]
  },
  {
   "cell_type": "code",
   "execution_count": null,
   "metadata": {},
   "outputs": [],
   "source": []
  }
 ],
 "metadata": {
  "kernelspec": {
   "display_name": "Python 3.8.5 ('base')",
   "language": "python",
   "name": "python3"
  },
  "language_info": {
   "codemirror_mode": {
    "name": "ipython",
    "version": 3
   },
   "file_extension": ".py",
   "mimetype": "text/x-python",
   "name": "python",
   "nbconvert_exporter": "python",
   "pygments_lexer": "ipython3",
   "version": "3.8.5"
  },
  "orig_nbformat": 4,
  "vscode": {
   "interpreter": {
    "hash": "dc64daf3f4cb34fd2a627a01a386acb4d813da83b9fc19fff854b5100519eb33"
   }
  }
 },
 "nbformat": 4,
 "nbformat_minor": 2
}
