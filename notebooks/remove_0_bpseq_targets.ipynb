{
 "cells": [
  {
   "cell_type": "code",
   "execution_count": 9,
   "metadata": {},
   "outputs": [
    {
     "name": "stdout",
     "output_type": "stream",
     "text": [
      "9704\n"
     ]
    }
   ],
   "source": [
    "import os\n",
    "from tqdm.notebook import tqdm\n",
    "\n",
    "PATH = \"/data/2d-rna/validation-noncanon-non0/\"\n",
    "files = os.listdir(PATH)\n",
    "print(len(files))"
   ]
  },
  {
   "cell_type": "code",
   "execution_count": null,
   "metadata": {},
   "outputs": [],
   "source": [
    "import shutil\n",
    "def verify(p, fi):\n",
    "    try:\n",
    "        with open(os.path.join(p, 'Target', f'{fi}.bpseq')) as f:\n",
    "            bpseq = f.readlines()\n",
    "            bpseq = [int(b.split(' ')[-1]) for b in bpseq]\n",
    "        if sum(bpseq) == 0:\n",
    "            print(fi, p)\n",
    "            # shutil.rmtree(p)\n",
    "    except FileNotFoundError as e:\n",
    "        print(f'{e}')\n",
    "\n",
    "for a in files:\n",
    "    p = os.path.join(PATH, a)\n",
    "    if os.path.isdir(p):\n",
    "        verify(p, a)"
   ]
  },
  {
   "cell_type": "code",
   "execution_count": null,
   "metadata": {},
   "outputs": [],
   "source": []
  }
 ],
 "metadata": {
  "kernelspec": {
   "display_name": "Python 3.8.5 ('base')",
   "language": "python",
   "name": "python3"
  },
  "language_info": {
   "codemirror_mode": {
    "name": "ipython",
    "version": 3
   },
   "file_extension": ".py",
   "mimetype": "text/x-python",
   "name": "python",
   "nbconvert_exporter": "python",
   "pygments_lexer": "ipython3",
   "version": "3.8.5"
  },
  "orig_nbformat": 4,
  "vscode": {
   "interpreter": {
    "hash": "dc64daf3f4cb34fd2a627a01a386acb4d813da83b9fc19fff854b5100519eb33"
   }
  }
 },
 "nbformat": 4,
 "nbformat_minor": 2
}
