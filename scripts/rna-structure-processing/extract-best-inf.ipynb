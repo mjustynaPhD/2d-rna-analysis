{
 "cells": [
  {
   "cell_type": "code",
   "execution_count": 1,
   "id": "2ff49e3e-4c86-4261-a1c5-78d1ac3af7dc",
   "metadata": {},
   "outputs": [],
   "source": [
    "import os"
   ]
  },
  {
   "cell_type": "code",
   "execution_count": 56,
   "id": "97d54272-ff01-46e7-a9b6-6dd8c38b5834",
   "metadata": {},
   "outputs": [],
   "source": [
    "PATH = \"/data/2d-rna/rna-struct-validation/non-canon/results.rpt\""
   ]
  },
  {
   "cell_type": "code",
   "execution_count": 57,
   "id": "227d97be-c713-4ba5-9b1e-1bec3cc88f2f",
   "metadata": {},
   "outputs": [],
   "source": [
    "with open(PATH) as f:\n",
    "    lines = f.readlines()"
   ]
  },
  {
   "cell_type": "code",
   "execution_count": 58,
   "id": "6c5c9feb-3623-4bd0-ac94-a3e5c57e7e71",
   "metadata": {},
   "outputs": [
    {
     "data": {
      "text/plain": [
       "34161"
      ]
     },
     "execution_count": 58,
     "metadata": {},
     "output_type": "execute_result"
    }
   ],
   "source": [
    "res = [l.split() for l in lines]\n",
    "len(res)"
   ]
  },
  {
   "cell_type": "code",
   "execution_count": 59,
   "id": "237c21e0-278f-43ba-8126-70b66ec06d9c",
   "metadata": {},
   "outputs": [],
   "source": [
    "results_summary = {}\n",
    "last_id=\"\"\n",
    "for l in res:\n",
    "    if len(l) ==1:\n",
    "        last_id = l[0]\n",
    "        results_summary[last_id]=[]\n",
    "        continue\n",
    "    elif len(l) >0 and l[0] != 'Tool':\n",
    "        results_summary[last_id].append([l[0], float(l[-1])])\n",
    "    "
   ]
  },
  {
   "cell_type": "code",
   "execution_count": 60,
   "id": "2a2a0af6-51bf-494c-bf88-efdb539283a4",
   "metadata": {},
   "outputs": [
    {
     "data": {
      "text/plain": [
       "'1C2X_1_C-9'"
      ]
     },
     "execution_count": 60,
     "metadata": {},
     "output_type": "execute_result"
    }
   ],
   "source": [
    "import pandas as pd\n",
    "\n",
    "def get_max_id(name=\"1C2X_1_C\"):\n",
    "    df = pd.DataFrame(results_summary[name], columns=['id', 'inf'])\n",
    "    max_val = df.max()\n",
    "    return max_val.id\n",
    "    \n",
    "get_max_id()"
   ]
  },
  {
   "cell_type": "code",
   "execution_count": 61,
   "id": "8db91ba5-ccb1-4d9d-9618-67afc6efe4dc",
   "metadata": {},
   "outputs": [],
   "source": [
    "with open(\"best-noncanon.txt\", 'w') as f:\n",
    "    for a in results_summary.keys():\n",
    "        id = get_max_id(a)\n",
    "        f.write(a+\"/\"+id+\"\\n\")"
   ]
  },
  {
   "cell_type": "code",
   "execution_count": null,
   "id": "38904e47-a6e9-45c6-b695-6d48e23dd318",
   "metadata": {},
   "outputs": [],
   "source": []
  },
  {
   "cell_type": "code",
   "execution_count": 62,
   "id": "859b311c-946e-49f2-9c8a-884ae0a3b9cb",
   "metadata": {},
   "outputs": [],
   "source": [
    "PATH = \"/data/2d-rna/rna-struct-validation/all/results.rpt\"\n",
    "PATH2 = \"/data/2d-rna/rna-struct-validation/canon/results.rpt\"\n",
    "\n",
    "def get_lines(p):\n",
    "    with open(p) as f:\n",
    "        lines = f.readlines()\n",
    "        res = [l.split() for l in lines]\n",
    "    results_summary = {}\n",
    "    last_id=\"\"\n",
    "    for l in res:\n",
    "        if len(l) ==1:\n",
    "            last_id = l[0]\n",
    "            results_summary[last_id]=[]\n",
    "            continue\n",
    "        elif len(l) >0 and l[0] != 'Tool':\n",
    "            results_summary[last_id].append([l[0], float(l[-1])])\n",
    "    return results_summary\n",
    "\n",
    "all_res = get_lines(PATH)\n",
    "can_res = get_lines(PATH2)\n"
   ]
  },
  {
   "cell_type": "code",
   "execution_count": 64,
   "id": "bd10a4a3-b4d7-4036-a6c5-d698937d8bac",
   "metadata": {},
   "outputs": [
    {
     "data": {
      "text/plain": [
       "set()"
      ]
     },
     "execution_count": 64,
     "metadata": {},
     "output_type": "execute_result"
    }
   ],
   "source": [
    "set(all_res.keys()).difference(set(can_res.keys()))"
   ]
  },
  {
   "cell_type": "code",
   "execution_count": null,
   "id": "0476a460-29b9-4e84-89da-a8d3eb9ae0a7",
   "metadata": {},
   "outputs": [],
   "source": []
  }
 ],
 "metadata": {
  "kernelspec": {
   "display_name": "Python 3 (ipykernel)",
   "language": "python",
   "name": "python3"
  },
  "language_info": {
   "codemirror_mode": {
    "name": "ipython",
    "version": 3
   },
   "file_extension": ".py",
   "mimetype": "text/x-python",
   "name": "python",
   "nbconvert_exporter": "python",
   "pygments_lexer": "ipython3",
   "version": "3.8.5"
  }
 },
 "nbformat": 4,
 "nbformat_minor": 5
}
