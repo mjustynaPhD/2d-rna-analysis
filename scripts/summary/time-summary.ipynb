{
 "cells": [
  {
   "cell_type": "code",
   "execution_count": 7,
   "id": "420182bc-b212-4cbc-ab1c-e15d494c3c9c",
   "metadata": {},
   "outputs": [],
   "source": [
    "import pandas as pd"
   ]
  },
  {
   "cell_type": "code",
   "execution_count": 19,
   "id": "4b033696-22f4-4b4d-b071-0ccff6be5668",
   "metadata": {},
   "outputs": [],
   "source": [
    "time_paths = {\n",
    "    \"SPOT-RNA\":\"/home/macieka/2d-prediction/SPOT-RNA/time.txt\",\n",
    "    \"MXfold\":\"/home/macieka/2d-prediction/mxfold/predictions/time.txt\",\n",
    "    \"MXfold2\":\"/home/macieka/2d-prediction/mxfold2/time.txt\",\n",
    "    \"Contextfold\":\"/home/macieka/2d-prediction/ContextFold_1_00/tail-time.txt\",\n",
    "    \"CONTRAfold\":\"/home/macieka/2d-prediction/contrafold/predictions/time.txt\",\n",
    "    # \"rna-state-inf\":\"/home/macieka/2d-prediction/rna-state-inf/tail-time.txt\",\n",
    "    \"UFold\":\"/home/macieka/2d-prediction/UFold/tail-time.txt\",\n",
    "    \"E2efold\":\"/home/macieka/2d-prediction/e2efold/e2efold_productive/time.txt\"    \n",
    "}"
   ]
  },
  {
   "cell_type": "code",
   "execution_count": 20,
   "id": "bf80bfb6-d378-41c5-a5e5-103bc0f36df1",
   "metadata": {},
   "outputs": [
    {
     "name": "stdout",
     "output_type": "stream",
     "text": [
      "{'SPOT-RNA': 'real\\t19m52.341s\\n', 'MXfold': 'real\\t2m44.149s\\n', 'MXfold2': 'real\\t126m12.052s\\n', 'Contextfold': 'real\\t29m21.005s\\n', 'CONTRAfold': 'real\\t2m29.984s\\n', 'UFold': 'real\\t18m8.379s\\n', 'E2efold': 'real\\t2m36.520s\\n'}\n"
     ]
    }
   ],
   "source": [
    "method_times = {}\n",
    "for n, tf in time_paths.items():\n",
    "    with open(tf) as f:\n",
    "        times = f.readlines()[-3:-2]\n",
    "    method_times[n]=times[0]\n",
    "print(method_times)"
   ]
  },
  {
   "cell_type": "code",
   "execution_count": 40,
   "id": "2b4aa31c-8410-46d4-97a1-499752671462",
   "metadata": {},
   "outputs": [
    {
     "name": "stdout",
     "output_type": "stream",
     "text": [
      "SPOT-RNA 1192.341\n",
      "MXfold 164.149\n",
      "MXfold2 7572.052\n",
      "Contextfold 1761.005\n",
      "CONTRAfold 149.984\n",
      "UFold 1088.379\n",
      "E2efold 156.52\n"
     ]
    }
   ],
   "source": [
    "import numpy as np\n",
    "sec_times = []\n",
    "for m, v in method_times.items():\n",
    "    t_val = v.replace(\"real\\t\", \"\").strip()\n",
    "    t_val = t_val.split(\"m\")\n",
    "    t_val[0] = int(t_val[0])\n",
    "    t_val[1] = float(t_val[1].replace('s',''))\n",
    "    sec_time = float(t_val[0]*60 + t_val[1])\n",
    "    sec_times.append([m, sec_time])\n",
    "    print(m, sec_time)\n",
    "sec_times = np.array(sec_times)"
   ]
  },
  {
   "cell_type": "code",
   "execution_count": 54,
   "id": "9a5df52a-3f92-4650-af7e-b295db188aba",
   "metadata": {},
   "outputs": [
    {
     "data": {
      "text/html": [
       "<div>\n",
       "<style scoped>\n",
       "    .dataframe tbody tr th:only-of-type {\n",
       "        vertical-align: middle;\n",
       "    }\n",
       "\n",
       "    .dataframe tbody tr th {\n",
       "        vertical-align: top;\n",
       "    }\n",
       "\n",
       "    .dataframe thead th {\n",
       "        text-align: right;\n",
       "    }\n",
       "</style>\n",
       "<table border=\"1\" class=\"dataframe\">\n",
       "  <thead>\n",
       "    <tr style=\"text-align: right;\">\n",
       "      <th></th>\n",
       "      <th>Time [s]</th>\n",
       "    </tr>\n",
       "  </thead>\n",
       "  <tbody>\n",
       "    <tr>\n",
       "      <th>CONTRAfold</th>\n",
       "      <td>150.000</td>\n",
       "    </tr>\n",
       "    <tr>\n",
       "      <th>E2efold</th>\n",
       "      <td>156.500</td>\n",
       "    </tr>\n",
       "    <tr>\n",
       "      <th>MXfold</th>\n",
       "      <td>164.125</td>\n",
       "    </tr>\n",
       "    <tr>\n",
       "      <th>UFold</th>\n",
       "      <td>1088.000</td>\n",
       "    </tr>\n",
       "    <tr>\n",
       "      <th>SPOT-RNA</th>\n",
       "      <td>1192.000</td>\n",
       "    </tr>\n",
       "    <tr>\n",
       "      <th>Contextfold</th>\n",
       "      <td>1761.000</td>\n",
       "    </tr>\n",
       "    <tr>\n",
       "      <th>MXfold2</th>\n",
       "      <td>7572.000</td>\n",
       "    </tr>\n",
       "  </tbody>\n",
       "</table>\n",
       "</div>"
      ],
      "text/plain": [
       "             Time [s]\n",
       "CONTRAfold    150.000\n",
       "E2efold       156.500\n",
       "MXfold        164.125\n",
       "UFold        1088.000\n",
       "SPOT-RNA     1192.000\n",
       "Contextfold  1761.000\n",
       "MXfold2      7572.000"
      ]
     },
     "execution_count": 54,
     "metadata": {},
     "output_type": "execute_result"
    }
   ],
   "source": [
    "col_name='Time [s]'\n",
    "df = pd.DataFrame(sec_times[:,1].astype(\"float16\"), index=sec_times[:, 0], columns=[col_name]).sort_values(by=col_name)\n",
    "df"
   ]
  },
  {
   "cell_type": "code",
   "execution_count": 57,
   "id": "4fd3f081-82e4-4ce1-b4de-f4205995f775",
   "metadata": {},
   "outputs": [
    {
     "data": {
      "text/plain": [
       "[Text(0.5, 1.0, 'Execution time')]"
      ]
     },
     "execution_count": 57,
     "metadata": {},
     "output_type": "execute_result"
    },
    {
     "data": {
      "image/png": "[encoded data removed]",
      "text/plain": [
       "<Figure size 720x360 with 1 Axes>"
      ]
     },
     "metadata": {},
     "output_type": "display_data"
    }
   ],
   "source": [
    "from turtle import width\n",
    "import matplotlib.pyplot as plt\n",
    "import seaborn as sns\n",
    "plt.figure(figsize=(10, 5))\n",
    "sns.set_theme(style=\"whitegrid\")\n",
    "\n",
    "ax = sns.barplot(x=df.index, y=col_name, data=df, color='grey')\n",
    "ax.set(title=\"Execution time\")\n",
    "# ax.yaxis.grid(True)"
   ]
  },
  {
   "cell_type": "code",
   "execution_count": null,
   "id": "e1a0a80c-6665-4f93-8a48-c79f6f1103b0",
   "metadata": {},
   "outputs": [],
   "source": []
  }
 ],
 "metadata": {
  "interpreter": {
   "hash": "dc64daf3f4cb34fd2a627a01a386acb4d813da83b9fc19fff854b5100519eb33"
  },
  "kernelspec": {
   "display_name": "Python 3.8.5 ('base')",
   "language": "python",
   "name": "python3"
  },
  "language_info": {
   "codemirror_mode": {
    "name": "ipython",
    "version": 3
   },
   "file_extension": ".py",
   "mimetype": "text/x-python",
   "name": "python",
   "nbconvert_exporter": "python",
   "pygments_lexer": "ipython3",
   "version": "3.8.5"
  }
 },
 "nbformat": 4,
 "nbformat_minor": 5
}
