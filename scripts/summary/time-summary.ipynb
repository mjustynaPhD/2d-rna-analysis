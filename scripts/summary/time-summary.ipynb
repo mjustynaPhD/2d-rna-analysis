{
 "cells": [
  {
   "cell_type": "code",
   "execution_count": 2,
   "id": "420182bc-b212-4cbc-ab1c-e15d494c3c9c",
   "metadata": {},
   "outputs": [],
   "source": [
    "import pandas as pd"
   ]
  },
  {
   "cell_type": "code",
   "execution_count": 3,
   "id": "4b033696-22f4-4b4d-b071-0ccff6be5668",
   "metadata": {},
   "outputs": [],
   "source": [
    "time_paths = {\n",
    "    \"spot-rna\":\"/home/macieka/2d-prediction/SPOT-RNA/time.txt\",\n",
    "    \"mxfold\":\"/home/macieka/2d-prediction/mxfold/predictions/time.txt\",\n",
    "    \"mxfold2\":\"/home/macieka/2d-prediction/mxfold2/time.txt\",\n",
    "    \"contextfold\":\"/home/macieka/2d-prediction/ContextFold_1_00/tail-time.txt\",\n",
    "    \"contrafold\":\"/home/macieka/2d-prediction/contrafold/predictions/time.txt\",\n",
    "    \"rna-state-inf\":\"/home/macieka/2d-prediction/rna-state-inf/tail-time.txt\",\n",
    "    \"ufold\":\"/home/macieka/2d-prediction/UFold/tail-time.txt\",\n",
    "    \"e2efold\":\"/home/macieka/2d-prediction/e2efold/e2efold_productive/time.txt\"    \n",
    "}"
   ]
  },
  {
   "cell_type": "code",
   "execution_count": 4,
   "id": "bf80bfb6-d378-41c5-a5e5-103bc0f36df1",
   "metadata": {},
   "outputs": [
    {
     "name": "stdout",
     "output_type": "stream",
     "text": [
      "{'spot-rna': 'real\\t19m52.341s\\n', 'mxfold': 'real\\t2m44.149s\\n', 'mxfold2': 'real\\t126m12.052s\\n', 'contextfold': 'real\\t29m21.005s\\n', 'contrafold': 'real\\t2m29.984s\\n', 'rna-state-inf': 'real\\t826m18.861s\\n', 'ufold': 'real\\t18m8.379s\\n', 'e2efold': 'real\\t2m36.520s\\n'}\n"
     ]
    }
   ],
   "source": [
    "method_times = {}\n",
    "for n, tf in time_paths.items():\n",
    "    with open(tf) as f:\n",
    "        times = f.readlines()[-3:-2]\n",
    "    method_times[n]=times[0]\n",
    "print(method_times)"
   ]
  },
  {
   "cell_type": "code",
   "execution_count": 5,
   "id": "2b4aa31c-8410-46d4-97a1-499752671462",
   "metadata": {},
   "outputs": [
    {
     "name": "stdout",
     "output_type": "stream",
     "text": [
      "spot-rna 1192.341\n",
      "mxfold 164.149\n",
      "mxfold2 7572.052\n",
      "contextfold 1761.005\n",
      "contrafold 149.984\n",
      "rna-state-inf 49578.861\n",
      "ufold 1088.379\n",
      "e2efold 156.52\n"
     ]
    }
   ],
   "source": [
    "import numpy as np\n",
    "sec_times = []\n",
    "for m, v in method_times.items():\n",
    "    t_val = v.replace(\"real\\t\", \"\").strip()\n",
    "    t_val = t_val.split(\"m\")\n",
    "    t_val[0] = int(t_val[0])\n",
    "    t_val[1] = float(t_val[1].replace('s',''))\n",
    "    sec_time = float(t_val[0]*60 + t_val[1])\n",
    "    sec_times.append([m, sec_time])\n",
    "    print(m, sec_time)\n",
    "sec_times = np.array(sec_times)"
   ]
  },
  {
   "cell_type": "code",
   "execution_count": null,
   "id": "bdac4dc2-adb4-442c-af90-0603f4d230f0",
   "metadata": {},
   "outputs": [],
   "source": []
  },
  {
   "cell_type": "code",
   "execution_count": 6,
   "id": "9a5df52a-3f92-4650-af7e-b295db188aba",
   "metadata": {},
   "outputs": [
    {
     "data": {
      "text/html": [
       "<div>\n",
       "<style scoped>\n",
       "    .dataframe tbody tr th:only-of-type {\n",
       "        vertical-align: middle;\n",
       "    }\n",
       "\n",
       "    .dataframe tbody tr th {\n",
       "        vertical-align: top;\n",
       "    }\n",
       "\n",
       "    .dataframe thead th {\n",
       "        text-align: right;\n",
       "    }\n",
       "</style>\n",
       "<table border=\"1\" class=\"dataframe\">\n",
       "  <thead>\n",
       "    <tr style=\"text-align: right;\">\n",
       "      <th></th>\n",
       "      <th>0</th>\n",
       "    </tr>\n",
       "  </thead>\n",
       "  <tbody>\n",
       "    <tr>\n",
       "      <th>contrafold</th>\n",
       "      <td>150.000</td>\n",
       "    </tr>\n",
       "    <tr>\n",
       "      <th>e2efold</th>\n",
       "      <td>156.500</td>\n",
       "    </tr>\n",
       "    <tr>\n",
       "      <th>mxfold</th>\n",
       "      <td>164.125</td>\n",
       "    </tr>\n",
       "    <tr>\n",
       "      <th>ufold</th>\n",
       "      <td>1088.000</td>\n",
       "    </tr>\n",
       "    <tr>\n",
       "      <th>spot-rna</th>\n",
       "      <td>1192.000</td>\n",
       "    </tr>\n",
       "    <tr>\n",
       "      <th>contextfold</th>\n",
       "      <td>1761.000</td>\n",
       "    </tr>\n",
       "    <tr>\n",
       "      <th>mxfold2</th>\n",
       "      <td>7572.000</td>\n",
       "    </tr>\n",
       "    <tr>\n",
       "      <th>rna-state-inf</th>\n",
       "      <td>49568.000</td>\n",
       "    </tr>\n",
       "  </tbody>\n",
       "</table>\n",
       "</div>"
      ],
      "text/plain": [
       "                       0\n",
       "contrafold       150.000\n",
       "e2efold          156.500\n",
       "mxfold           164.125\n",
       "ufold           1088.000\n",
       "spot-rna        1192.000\n",
       "contextfold     1761.000\n",
       "mxfold2         7572.000\n",
       "rna-state-inf  49568.000"
      ]
     },
     "execution_count": 6,
     "metadata": {},
     "output_type": "execute_result"
    }
   ],
   "source": [
    "df = pd.DataFrame(sec_times[:,1].astype(\"float16\"), index=sec_times[:, 0]).sort_values(by=0)\n",
    "df"
   ]
  },
  {
   "cell_type": "code",
   "execution_count": 9,
   "id": "33f0f836-062a-4ec0-8341-07dce62c3767",
   "metadata": {},
   "outputs": [],
   "source": [
    "vals = [float(v) for v in df[0].values[:-1]]"
   ]
  },
  {
   "cell_type": "code",
   "execution_count": 12,
   "id": "4fd3f081-82e4-4ce1-b4de-f4205995f775",
   "metadata": {},
   "outputs": [
    {
     "data": {
      "text/plain": [
       "<BarContainer object of 7 artists>"
      ]
     },
     "execution_count": 12,
     "metadata": {},
     "output_type": "execute_result"
    },
    {
     "data": {
      "image/png": "[encoded data removed]",
      "text/plain": [
       "<Figure size 1080x360 with 1 Axes>"
      ]
     },
     "metadata": {
      "needs_background": "light"
     },
     "output_type": "display_data"
    }
   ],
   "source": [
    "import matplotlib.pyplot as plt\n",
    "plt.figure(figsize=(15, 5))\n",
    "plt.bar(df.index[:-1], vals)"
   ]
  },
  {
   "cell_type": "code",
   "execution_count": null,
   "id": "e1a0a80c-6665-4f93-8a48-c79f6f1103b0",
   "metadata": {},
   "outputs": [],
   "source": []
  }
 ],
 "metadata": {
  "interpreter": {
   "hash": "dc64daf3f4cb34fd2a627a01a386acb4d813da83b9fc19fff854b5100519eb33"
  },
  "kernelspec": {
   "display_name": "Python 3.8.5 ('base')",
   "language": "python",
   "name": "python3"
  },
  "language_info": {
   "codemirror_mode": {
    "name": "ipython",
    "version": 3
   },
   "file_extension": ".py",
   "mimetype": "text/x-python",
   "name": "python",
   "nbconvert_exporter": "python",
   "pygments_lexer": "ipython3",
   "version": "3.8.5"
  }
 },
 "nbformat": 4,
 "nbformat_minor": 5
}
