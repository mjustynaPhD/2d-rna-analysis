{
 "cells": [
  {
   "cell_type": "code",
   "execution_count": 13,
   "metadata": {},
   "outputs": [
    {
     "name": "stdout",
     "output_type": "stream",
     "text": [
      "7354\n",
      "['6OZR_1_C-D', '6W6V_1_A', '5UYK_1_W', '4TZZ_1_F', '2JRQ_6_A', '1MFJ_1_A', '2M18_9_C', '6IFZ_1_I-J', '5NDI_1_A', '6YFT_1_SM', '1N78_1_C', '4NXH_1_A', '2MXK_1_B-A', '4LG2_1_I-J', '4V8U_1_BB', '5VJ9_1_B', '6BUW_1_XV', '3J0L_1_f', '2ES5_1_A', '4V5Q_1_CV', '5J88_1_DB', '5Z56_1_H-F', '4BW0_1_A', '6VYT_1_A', '6N9F_1_2B', '3J0Q_1_Y', '4V6F_1_BC', '5C0X_1_R', '1YYW_1_E-F', '6WD0_1_6', '4K4Z_1_F-G-H', '1AM0_2_A', '4Z7L_1_C', '3FS0_1_B-A', '4KYY_1_A-B', '5AFI_1_B', '6KL9_1_G', '4YAZ_1_R', '1VY4_1_AW', '6NDK_1_XV', '4V95_1_BB', '6KC7_1_B', '5MLC_1_B', '3NMU_1_D-I', '3FU2_1_B', '6MWN_1_B', '5EL5_1_1J', '5T2A_1_H', '6WDB_1_2', '353D_1_A-B', '7CYQ_1_J-I', '7JRT_1_B', '2B2E_1_S', '6HTQ_1_B', '4V9O_1_GB', '1F7V_1_B', '4V6Q_1_AB', '1YYK_1_C-D', '6IFU_1_I-J', '6OT3_1_5', '5TKO_1_C-D', '6VFF_1_D-C', '6BZ7_1_RB', '6QTZ_1_x', '1I3X_1_A', '7OPE_1_B', '4V6L_1_AB', '6O97_1_2w', '5WIT_1_1w', '7E9E_1_A', '2I82_1_F', '6NSH_1_YB', '6NDK_1_QV', '6YLB_1_F', '6WDH_1_5', '4X65_1_b-a', '6XQE_1_1x', '2TOB_1_A', '3KS8_1_E-F', '6AEG_1_A', '4X64_1_b-a', '2NBY_6_A', '4V56_1_BA', '7RQD_1_1B', '6OF6_1_QY', '4K4X_1_J-K-L', '4V8T_1_7', '7KUP_1_A-B', '4V55_1_DA', '7SC6_1_C', '7M2T_1_kk-TT', '4KR7_1_X', '6H58_1_ww', '6VPC_1_A', '6NSH_1_RB', '2FCY_1_A-B', '1L3D_1_A', '4J50_1_A-B', '4V5D_1_BB', '6IP8_1_zy']\n"
     ]
    }
   ],
   "source": [
    "with open('common-all.txt') as f:\n",
    "    lines = f.readlines()\n",
    "common = lines[0].split(',')\n",
    "common = [l.replace('\\'', '').replace('}', '').replace('{', '').strip() for l in common]\n",
    "print(len(common))\n",
    "print(common[:100])"
   ]
  },
  {
   "cell_type": "code",
   "execution_count": 24,
   "metadata": {},
   "outputs": [],
   "source": [
    "import os\n",
    "FASTA = '/data/2d-rna/fasta500/'\n",
    "\n",
    "fa_len = []\n",
    "for fa in common:\n",
    "    with open(os.path.join(FASTA, f'{fa}.fa')) as f:\n",
    "        fasta = f.readlines()[-1]\n",
    "    fa_len.append((fa, len(fasta)))"
   ]
  },
  {
   "cell_type": "code",
   "execution_count": 36,
   "metadata": {},
   "outputs": [
    {
     "data": {
      "text/plain": [
       "['5U4J_1_A',\n",
       " '1G2E_1_B',\n",
       " '1IDV_1_A',\n",
       " '1R4H_1_A',\n",
       " '1R9S_1_R',\n",
       " '1YTU_1_E-F',\n",
       " '219D_1_B',\n",
       " '2M18_9_A',\n",
       " '2M18_9_B',\n",
       " '2M18_9_C']"
      ]
     },
     "execution_count": 36,
     "metadata": {},
     "output_type": "execute_result"
    }
   ],
   "source": [
    "shortest = sorted(fa_len, key=lambda x: (x[1], x[0]))\n",
    "shortest = [x[0] for x in shortest]\n",
    "shortest[:10]"
   ]
  },
  {
   "cell_type": "code",
   "execution_count": 37,
   "metadata": {},
   "outputs": [],
   "source": [
    "\n",
    "with open('shortest-order.txt', 'w') as f:\n",
    "    f.writelines(\"\\n\".join(shortest))"
   ]
  },
  {
   "cell_type": "code",
   "execution_count": null,
   "metadata": {},
   "outputs": [],
   "source": []
  }
 ],
 "metadata": {
  "kernelspec": {
   "display_name": "Python 3.8.5 ('base')",
   "language": "python",
   "name": "python3"
  },
  "language_info": {
   "codemirror_mode": {
    "name": "ipython",
    "version": 3
   },
   "file_extension": ".py",
   "mimetype": "text/x-python",
   "name": "python",
   "nbconvert_exporter": "python",
   "pygments_lexer": "ipython3",
   "version": "3.8.5"
  },
  "orig_nbformat": 4,
  "vscode": {
   "interpreter": {
    "hash": "dc64daf3f4cb34fd2a627a01a386acb4d813da83b9fc19fff854b5100519eb33"
   }
  }
 },
 "nbformat": 4,
 "nbformat_minor": 2
}
