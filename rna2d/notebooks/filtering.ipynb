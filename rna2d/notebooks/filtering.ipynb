{
 "cells": [
  {
   "cell_type": "code",
   "execution_count": 1,
   "metadata": {},
   "outputs": [],
   "source": [
    "from rna2d.pipelines import Pipeline"
   ]
  },
  {
   "cell_type": "code",
   "execution_count": 13,
   "metadata": {},
   "outputs": [],
   "source": [
    "p = Pipeline('../../results/all', \"/data/2d-rna/validation-all/results.rpt\")\n",
    "methods, indeces = p.run_for_all()"
   ]
  },
  {
   "cell_type": "code",
   "execution_count": 14,
   "metadata": {},
   "outputs": [
    {
     "name": "stdout",
     "output_type": "stream",
     "text": [
      "['6CFJ_1_1x', '5L4O_1_A', '5E81_1_2K', '6I0V_1_B', '6YDP_1_BB']\n"
     ]
    }
   ],
   "source": [
    "with open(\"../../metadata/representants.txt\") as f:\n",
    "    repres = f.readlines()\n",
    "\n",
    "repres = [r.strip() for r in repres]\n",
    "print(repres[:5])"
   ]
  },
  {
   "cell_type": "code",
   "execution_count": 52,
   "metadata": {},
   "outputs": [
    {
     "name": "stdout",
     "output_type": "stream",
     "text": [
      "All indece:8141, Representants:1646, Intersection:1028\n",
      "Before filtering: 0.6457317282889066\n",
      "After filtering: 0.5619163424124514\n"
     ]
    }
   ],
   "source": [
    "import pandas as pd\n",
    "tool = 'spot-rna'\n",
    "common_ind = set(indeces[tool])\n",
    "common_ind = list(common_ind.intersection(repres))\n",
    "df = pd.DataFrame(methods[tool], columns=[\n",
    "                  'PPV', 'TPR', 'F1', 'INF'], index=indeces[tool])\n",
    "res = df.loc[common_ind]\n",
    "# df.loc[df['INF']==0].head(100).tail()\n",
    "print(\n",
    "    f\"All indece: {len(indeces[tool])}, Representants: {len(repres)}, Intersection: {len(common_ind)}\")\n",
    "print(f\"Before filtering: {df['INF'].mean()}\")\n",
    "print(f\"After filtering: {res['INF'].mean()}\")\n"
   ]
  },
  {
   "cell_type": "code",
   "execution_count": null,
   "metadata": {},
   "outputs": [],
   "source": []
  }
 ],
 "metadata": {
  "kernelspec": {
   "display_name": "Python 3.8.5 ('base')",
   "language": "python",
   "name": "python3"
  },
  "language_info": {
   "codemirror_mode": {
    "name": "ipython",
    "version": 3
   },
   "file_extension": ".py",
   "mimetype": "text/x-python",
   "name": "python",
   "nbconvert_exporter": "python",
   "pygments_lexer": "ipython3",
   "version": "3.8.5"
  },
  "orig_nbformat": 4,
  "vscode": {
   "interpreter": {
    "hash": "dc64daf3f4cb34fd2a627a01a386acb4d813da83b9fc19fff854b5100519eb33"
   }
  }
 },
 "nbformat": 4,
 "nbformat_minor": 2
}
